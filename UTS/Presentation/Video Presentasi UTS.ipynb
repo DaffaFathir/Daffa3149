{
  "nbformat": 4,
  "nbformat_minor": 0,
  "metadata": {
    "colab": {
      "provenance": [],
      "authorship_tag": "ABX9TyNp9R93iZAKTN1IMZwlLRfK",
      "include_colab_link": true
    },
    "kernelspec": {
      "name": "python3",
      "display_name": "Python 3"
    },
    "language_info": {
      "name": "python"
    }
  },
  "cells": [
    {
      "cell_type": "markdown",
      "metadata": {
        "id": "view-in-github",
        "colab_type": "text"
      },
      "source": [
        "<a href=\"https://colab.research.google.com/github/DaffaFathir/Machine-Learning-Task/blob/main/UTS/Presentation/Video%20Presentasi%20UTS.ipynb\" target=\"_parent\"><img src=\"https://colab.research.google.com/assets/colab-badge.svg\" alt=\"Open In Colab\"/></a>"
      ]
    },
    {
      "cell_type": "markdown",
      "source": [
        "Link presentasi video : https://drive.google.com/file/d/18F88dt0W2cOSz6ad6xavZKwkapL4WZa8/view?usp=sharing"
      ],
      "metadata": {
        "id": "bIzZdUpo0cIF"
      }
    }
  ]
}