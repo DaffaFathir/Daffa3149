{
  "nbformat": 4,
  "nbformat_minor": 0,
  "metadata": {
    "colab": {
      "provenance": [],
      "gpuType": "T4",
      "mount_file_id": "1pJfjdNYCVa5zXmbgVFd9FGZkze3TAfw8",
      "authorship_tag": "ABX9TyPkHRO0o3Rg8F80ZlAv46Cz",
      "include_colab_link": true
    },
    "kernelspec": {
      "name": "python3",
      "display_name": "Python 3"
    },
    "language_info": {
      "name": "python"
    },
    "accelerator": "GPU"
  },
  "cells": [
    {
      "cell_type": "markdown",
      "metadata": {
        "id": "view-in-github",
        "colab_type": "text"
      },
      "source": [
        "<a href=\"https://colab.research.google.com/github/DaffaFathir/Machine-Learning-Task/blob/main/Tugas%2012/CNN_AlexNet_Daffa.ipynb\" target=\"_parent\"><img src=\"https://colab.research.google.com/assets/colab-badge.svg\" alt=\"Open In Colab\"/></a>"
      ]
    },
    {
      "cell_type": "code",
      "source": [
        "# Nama    : Daffa Fathir Fajri\n",
        "# NIM     : 1103213149\n",
        "# Kelas   : TK-45-04\n",
        "# Lecture : 12\n",
        "# Model   : CNN (AlexNet)\n",
        "# Dataset : Fashion MNIST"
      ],
      "metadata": {
        "id": "UqGV1710wivo"
      },
      "execution_count": 12,
      "outputs": []
    },
    {
      "cell_type": "markdown",
      "source": [
        "chatGPT promph : https://chatgpt.com/share/19b146d0-c916-498c-96fa-844153d4128a"
      ],
      "metadata": {
        "id": "Dn9DirRYxhoK"
      }
    },
    {
      "cell_type": "markdown",
      "source": [
        "**Pertama, kita perlu mengimpor semua pustaka yang diperlukan.**"
      ],
      "metadata": {
        "id": "QrBeY1NW1anE"
      }
    },
    {
      "cell_type": "code",
      "source": [
        "import numpy as np\n",
        "import pandas as pd\n",
        "import tensorflow as tf\n",
        "from tensorflow.keras.models import Sequential\n",
        "from tensorflow.keras.layers import Conv2D, MaxPooling2D, Flatten, Dense, Dropout\n",
        "from tensorflow.keras.utils import to_categorical\n",
        "from sklearn.model_selection import train_test_split\n",
        "import matplotlib.pyplot as plt\n",
        "from google.colab import drive\n"
      ],
      "metadata": {
        "id": "gjlLxEFs0Elu"
      },
      "execution_count": 13,
      "outputs": []
    },
    {
      "cell_type": "markdown",
      "source": [
        "**Hubungkan Google Drive agar kita bisa mengakses dataset.**"
      ],
      "metadata": {
        "id": "6VS0K-X91g-I"
      }
    },
    {
      "cell_type": "code",
      "source": [
        "drive.mount('/content/drive')"
      ],
      "metadata": {
        "colab": {
          "base_uri": "https://localhost:8080/"
        },
        "id": "_QJlQexs1g-I",
        "outputId": "c1791b19-a30a-4cc8-e658-e8fbe245fd3f"
      },
      "execution_count": 14,
      "outputs": [
        {
          "output_type": "stream",
          "name": "stdout",
          "text": [
            "Drive already mounted at /content/drive; to attempt to forcibly remount, call drive.mount(\"/content/drive\", force_remount=True).\n"
          ]
        }
      ]
    },
    {
      "cell_type": "markdown",
      "source": [
        "**Baca file train.csv dan test.csv dari Google Drive.**"
      ],
      "metadata": {
        "id": "N96bhSh71hs5"
      }
    },
    {
      "cell_type": "code",
      "source": [
        "# Path to your dataset files\n",
        "train_path = '/content/drive/MyDrive/Machine Learning/Fashion/fashion-mnist_train.csv'\n",
        "test_path = '/content/drive/MyDrive/Machine Learning/Fashion/fashion-mnist_test.csv'\n",
        "\n",
        "# Load datasets\n",
        "train_df = pd.read_csv(train_path)\n",
        "test_df = pd.read_csv(test_path)"
      ],
      "metadata": {
        "id": "r56IbMB81hs5"
      },
      "execution_count": 15,
      "outputs": []
    },
    {
      "cell_type": "markdown",
      "source": [
        "**Pisahkan fitur dan label, normalisasi data, dan ubah label menjadi one-hot encoding.**"
      ],
      "metadata": {
        "id": "m75vovB21h1y"
      }
    },
    {
      "cell_type": "code",
      "source": [
        "# Split features and labels\n",
        "X_train = train_df.iloc[:, 1:].values\n",
        "y_train = train_df.iloc[:, 0].values\n",
        "X_test = test_df.iloc[:, 1:].values\n",
        "y_test = test_df.iloc[:, 0].values\n",
        "\n",
        "# Normalize the data\n",
        "X_train = X_train / 255.0\n",
        "X_test = X_test / 255.0\n",
        "\n",
        "# Reshape data to match the input shape of the CNN\n",
        "X_train = X_train.reshape(-1, 28, 28, 1)\n",
        "X_test = X_test.reshape(-1, 28, 28, 1)\n",
        "\n",
        "# One-hot encode the labels\n",
        "y_train = to_categorical(y_train, 10)\n",
        "y_test = to_categorical(y_test, 10)"
      ],
      "metadata": {
        "id": "OiYN5bwJ1h1y"
      },
      "execution_count": 16,
      "outputs": []
    },
    {
      "cell_type": "markdown",
      "source": [
        "**Definisikan arsitektur model AlexNet.**"
      ],
      "metadata": {
        "id": "pu7xFY_E1h7a"
      }
    },
    {
      "cell_type": "code",
      "source": [
        "model = Sequential()\n",
        "\n",
        "# 1st Convolutional Layer\n",
        "model.add(Conv2D(filters=32, input_shape=(28,28,1), kernel_size=(3,3), strides=(1,1), padding='same', activation='relu'))\n",
        "model.add(MaxPooling2D(pool_size=(2,2), strides=(2,2), padding='valid'))\n",
        "\n",
        "# 2nd Convolutional Layer\n",
        "model.add(Conv2D(filters=64, kernel_size=(3,3), strides=(1,1), padding='same', activation='relu'))\n",
        "model.add(MaxPooling2D(pool_size=(2,2), strides=(2,2), padding='valid'))\n",
        "\n",
        "# 3rd Convolutional Layer\n",
        "model.add(Conv2D(filters=128, kernel_size=(3,3), strides=(1,1), padding='same', activation='relu'))\n",
        "\n",
        "# 4th Convolutional Layer\n",
        "model.add(Conv2D(filters=128, kernel_size=(3,3), strides=(1,1), padding='same', activation='relu'))\n",
        "\n",
        "# 5th Convolutional Layer\n",
        "model.add(Conv2D(filters=64, kernel_size=(3,3), strides=(1,1), padding='same', activation='relu'))\n",
        "model.add(MaxPooling2D(pool_size=(2,2), strides=(2,2), padding='valid'))\n",
        "\n",
        "# Passing it to a Fully Connected layer\n",
        "model.add(Flatten())\n",
        "\n",
        "# 1st Fully Connected Layer\n",
        "model.add(Dense(512, activation='relu'))\n",
        "model.add(Dropout(0.5))\n",
        "\n",
        "# 2nd Fully Connected Layer\n",
        "model.add(Dense(512, activation='relu'))\n",
        "model.add(Dropout(0.5))\n",
        "\n",
        "# Output Layer\n",
        "model.add(Dense(10, activation='softmax'))\n",
        "\n",
        "# Print the model summary\n",
        "model.summary()\n"
      ],
      "metadata": {
        "colab": {
          "base_uri": "https://localhost:8080/"
        },
        "id": "1m7_OmI51h7a",
        "outputId": "fb532f5b-bb65-4713-ec4a-741dc79bac02"
      },
      "execution_count": 17,
      "outputs": [
        {
          "output_type": "stream",
          "name": "stdout",
          "text": [
            "Model: \"sequential_3\"\n",
            "_________________________________________________________________\n",
            " Layer (type)                Output Shape              Param #   \n",
            "=================================================================\n",
            " conv2d_15 (Conv2D)          (None, 28, 28, 32)        320       \n",
            "                                                                 \n",
            " max_pooling2d_9 (MaxPoolin  (None, 14, 14, 32)        0         \n",
            " g2D)                                                            \n",
            "                                                                 \n",
            " conv2d_16 (Conv2D)          (None, 14, 14, 64)        18496     \n",
            "                                                                 \n",
            " max_pooling2d_10 (MaxPooli  (None, 7, 7, 64)          0         \n",
            " ng2D)                                                           \n",
            "                                                                 \n",
            " conv2d_17 (Conv2D)          (None, 7, 7, 128)         73856     \n",
            "                                                                 \n",
            " conv2d_18 (Conv2D)          (None, 7, 7, 128)         147584    \n",
            "                                                                 \n",
            " conv2d_19 (Conv2D)          (None, 7, 7, 64)          73792     \n",
            "                                                                 \n",
            " max_pooling2d_11 (MaxPooli  (None, 3, 3, 64)          0         \n",
            " ng2D)                                                           \n",
            "                                                                 \n",
            " flatten_2 (Flatten)         (None, 576)               0         \n",
            "                                                                 \n",
            " dense_6 (Dense)             (None, 512)               295424    \n",
            "                                                                 \n",
            " dropout_4 (Dropout)         (None, 512)               0         \n",
            "                                                                 \n",
            " dense_7 (Dense)             (None, 512)               262656    \n",
            "                                                                 \n",
            " dropout_5 (Dropout)         (None, 512)               0         \n",
            "                                                                 \n",
            " dense_8 (Dense)             (None, 10)                5130      \n",
            "                                                                 \n",
            "=================================================================\n",
            "Total params: 877258 (3.35 MB)\n",
            "Trainable params: 877258 (3.35 MB)\n",
            "Non-trainable params: 0 (0.00 Byte)\n",
            "_________________________________________________________________\n"
          ]
        }
      ]
    },
    {
      "cell_type": "markdown",
      "source": [
        "**Mengatur parameter untuk training.**"
      ],
      "metadata": {
        "id": "npRopS8F1iEB"
      }
    },
    {
      "cell_type": "code",
      "source": [
        "model.compile(optimizer='adam', loss='categorical_crossentropy', metrics=['accuracy'])"
      ],
      "metadata": {
        "id": "3DgT_giR1iEB"
      },
      "execution_count": 18,
      "outputs": []
    },
    {
      "cell_type": "markdown",
      "source": [
        "**Melatih model dengan data yang sudah disiapkan.**"
      ],
      "metadata": {
        "id": "M17OWf7Z1kU_"
      }
    },
    {
      "cell_type": "code",
      "source": [
        "history = model.fit(X_train, y_train, epochs=20, batch_size=64, validation_split=0.2)"
      ],
      "metadata": {
        "colab": {
          "base_uri": "https://localhost:8080/"
        },
        "id": "4orRgIo21kVA",
        "outputId": "35d0e0c0-97a8-4d85-9c96-2d2b6309d423"
      },
      "execution_count": 19,
      "outputs": [
        {
          "output_type": "stream",
          "name": "stdout",
          "text": [
            "Epoch 1/20\n",
            "750/750 [==============================] - 13s 7ms/step - loss: 0.5669 - accuracy: 0.7891 - val_loss: 0.3868 - val_accuracy: 0.8566\n",
            "Epoch 2/20\n",
            "750/750 [==============================] - 6s 8ms/step - loss: 0.3382 - accuracy: 0.8790 - val_loss: 0.2848 - val_accuracy: 0.8990\n",
            "Epoch 3/20\n",
            "750/750 [==============================] - 4s 6ms/step - loss: 0.2899 - accuracy: 0.8950 - val_loss: 0.2630 - val_accuracy: 0.9043\n",
            "Epoch 4/20\n",
            "750/750 [==============================] - 5s 6ms/step - loss: 0.2571 - accuracy: 0.9069 - val_loss: 0.2789 - val_accuracy: 0.9001\n",
            "Epoch 5/20\n",
            "750/750 [==============================] - 6s 8ms/step - loss: 0.2314 - accuracy: 0.9153 - val_loss: 0.2417 - val_accuracy: 0.9131\n",
            "Epoch 6/20\n",
            "750/750 [==============================] - 4s 6ms/step - loss: 0.2161 - accuracy: 0.9202 - val_loss: 0.2440 - val_accuracy: 0.9118\n",
            "Epoch 7/20\n",
            "750/750 [==============================] - 5s 6ms/step - loss: 0.1997 - accuracy: 0.9268 - val_loss: 0.2423 - val_accuracy: 0.9153\n",
            "Epoch 8/20\n",
            "750/750 [==============================] - 6s 8ms/step - loss: 0.1793 - accuracy: 0.9343 - val_loss: 0.2444 - val_accuracy: 0.9135\n",
            "Epoch 9/20\n",
            "750/750 [==============================] - 4s 6ms/step - loss: 0.1653 - accuracy: 0.9396 - val_loss: 0.2500 - val_accuracy: 0.9197\n",
            "Epoch 10/20\n",
            "750/750 [==============================] - 5s 6ms/step - loss: 0.1579 - accuracy: 0.9417 - val_loss: 0.2433 - val_accuracy: 0.9174\n",
            "Epoch 11/20\n",
            "750/750 [==============================] - 6s 8ms/step - loss: 0.1416 - accuracy: 0.9477 - val_loss: 0.2397 - val_accuracy: 0.9212\n",
            "Epoch 12/20\n",
            "750/750 [==============================] - 5s 6ms/step - loss: 0.1335 - accuracy: 0.9520 - val_loss: 0.2665 - val_accuracy: 0.9134\n",
            "Epoch 13/20\n",
            "750/750 [==============================] - 6s 8ms/step - loss: 0.1276 - accuracy: 0.9534 - val_loss: 0.2823 - val_accuracy: 0.9141\n",
            "Epoch 14/20\n",
            "750/750 [==============================] - 6s 8ms/step - loss: 0.1175 - accuracy: 0.9573 - val_loss: 0.2760 - val_accuracy: 0.9168\n",
            "Epoch 15/20\n",
            "750/750 [==============================] - 5s 6ms/step - loss: 0.1077 - accuracy: 0.9612 - val_loss: 0.2901 - val_accuracy: 0.9161\n",
            "Epoch 16/20\n",
            "750/750 [==============================] - 7s 10ms/step - loss: 0.1012 - accuracy: 0.9622 - val_loss: 0.3140 - val_accuracy: 0.9145\n",
            "Epoch 17/20\n",
            "750/750 [==============================] - 5s 6ms/step - loss: 0.0951 - accuracy: 0.9653 - val_loss: 0.3290 - val_accuracy: 0.9174\n",
            "Epoch 18/20\n",
            "750/750 [==============================] - 5s 6ms/step - loss: 0.0913 - accuracy: 0.9670 - val_loss: 0.3240 - val_accuracy: 0.9155\n",
            "Epoch 19/20\n",
            "750/750 [==============================] - 6s 8ms/step - loss: 0.0850 - accuracy: 0.9690 - val_loss: 0.3440 - val_accuracy: 0.9170\n",
            "Epoch 20/20\n",
            "750/750 [==============================] - 5s 6ms/step - loss: 0.0848 - accuracy: 0.9708 - val_loss: 0.3740 - val_accuracy: 0.9194\n"
          ]
        }
      ]
    },
    {
      "cell_type": "markdown",
      "source": [
        "**Mengevaluasi model dengan data uji.**"
      ],
      "metadata": {
        "id": "zcTxAx1_1kcH"
      }
    },
    {
      "cell_type": "code",
      "source": [
        "test_loss, test_accuracy = model.evaluate(X_test, y_test)\n",
        "print(f'Test Loss: {test_loss}')\n",
        "print(f'Test Accuracy: {test_accuracy}')\n"
      ],
      "metadata": {
        "colab": {
          "base_uri": "https://localhost:8080/"
        },
        "id": "uw0ZRmsD1kcI",
        "outputId": "6de8a293-74b3-40bf-8cdd-ae39ecb4ea22"
      },
      "execution_count": 20,
      "outputs": [
        {
          "output_type": "stream",
          "name": "stdout",
          "text": [
            "313/313 [==============================] - 2s 5ms/step - loss: 0.3382 - accuracy: 0.9244\n",
            "Test Loss: 0.3381583094596863\n",
            "Test Accuracy: 0.9243999719619751\n"
          ]
        }
      ]
    },
    {
      "cell_type": "markdown",
      "source": [
        "**Visualisasi kinerja model selama training.**"
      ],
      "metadata": {
        "id": "FkKXoFHA1kgA"
      }
    },
    {
      "cell_type": "code",
      "source": [
        "# Plot training & validation accuracy values\n",
        "plt.plot(history.history['accuracy'])\n",
        "plt.plot(history.history['val_accuracy'])\n",
        "plt.title('Model accuracy')\n",
        "plt.xlabel('Epoch')\n",
        "plt.ylabel('Accuracy')\n",
        "plt.legend(['Train', 'Validation'], loc='upper left')\n",
        "plt.show()\n",
        "\n",
        "# Plot training & validation loss values\n",
        "plt.plot(history.history['loss'])\n",
        "plt.plot(history.history['val_loss'])\n",
        "plt.title('Model loss')\n",
        "plt.xlabel('Epoch')\n",
        "plt.ylabel('Loss')\n",
        "plt.legend(['Train', 'Validation'], loc='upper left')\n",
        "plt.show()\n"
      ],
      "metadata": {
        "colab": {
          "base_uri": "https://localhost:8080/",
          "height": 927
        },
        "id": "WT1N3LI31kgA",
        "outputId": "7267eac3-6351-409f-c289-572b44b0a10b"
      },
      "execution_count": 21,
      "outputs": [
        {
          "output_type": "display_data",
          "data": {
            "text/plain": [
              "<Figure size 640x480 with 1 Axes>"
            ],
            "image/png": "[encoded data removed]"
          },
          "metadata": {}
        },
        {
          "output_type": "display_data",
          "data": {
            "text/plain": [
              "<Figure size 640x480 with 1 Axes>"
            ],
            "image/png": "[encoded data removed]"
          },
          "metadata": {}
        }
      ]
    }
  ]
}