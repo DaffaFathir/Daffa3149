{
  "nbformat": 4,
  "nbformat_minor": 0,
  "metadata": {
    "colab": {
      "provenance": [],
      "gpuType": "T4",
      "mount_file_id": "1pJfjdNYCVa5zXmbgVFd9FGZkze3TAfw8",
      "authorship_tag": "ABX9TyPX4FsAdmY41oaKQqtbOL1R",
      "include_colab_link": true
    },
    "kernelspec": {
      "name": "python3",
      "display_name": "Python 3"
    },
    "language_info": {
      "name": "python"
    },
    "accelerator": "GPU"
  },
  "cells": [
    {
      "cell_type": "markdown",
      "metadata": {
        "id": "view-in-github",
        "colab_type": "text"
      },
      "source": [
        "<a href=\"https://colab.research.google.com/github/DaffaFathir/Machine-Learning-Task/blob/main/Tugas%2012/CNN_NiN_Daffa.ipynb\" target=\"_parent\"><img src=\"https://colab.research.google.com/assets/colab-badge.svg\" alt=\"Open In Colab\"/></a>"
      ]
    },
    {
      "cell_type": "code",
      "source": [
        "# Nama    : Daffa Fathir Fajri\n",
        "# NIM     : 1103213149\n",
        "# Kelas   : TK-45-04\n",
        "# Lecture : 12\n",
        "# Model   : CNN (NiN)\n",
        "# Dataset : Fashion MNIST"
      ],
      "metadata": {
        "id": "UqGV1710wivo"
      },
      "execution_count": 38,
      "outputs": []
    },
    {
      "cell_type": "markdown",
      "source": [
        "chatGPT promph : https://chatgpt.com/share/19b146d0-c916-498c-96fa-844153d4128a"
      ],
      "metadata": {
        "id": "Dn9DirRYxhoK"
      }
    },
    {
      "cell_type": "markdown",
      "source": [
        "**Pertama, kita perlu mengimpor semua pustaka yang diperlukan.**"
      ],
      "metadata": {
        "id": "QrBeY1NW1anE"
      }
    },
    {
      "cell_type": "code",
      "source": [
        "import numpy as np\n",
        "import pandas as pd\n",
        "import tensorflow as tf\n",
        "from tensorflow.keras.models import Sequential\n",
        "from tensorflow.keras.layers import Conv2D, MaxPooling2D, Flatten, Dense, Dropout, GlobalAveragePooling2D\n",
        "from tensorflow.keras.utils import to_categorical\n",
        "from sklearn.model_selection import train_test_split\n",
        "import matplotlib.pyplot as plt\n",
        "from google.colab import drive\n"
      ],
      "metadata": {
        "id": "gjlLxEFs0Elu"
      },
      "execution_count": 39,
      "outputs": []
    },
    {
      "cell_type": "markdown",
      "source": [
        "**Hubungkan Google Drive agar kita bisa mengakses dataset.**"
      ],
      "metadata": {
        "id": "6VS0K-X91g-I"
      }
    },
    {
      "cell_type": "code",
      "source": [
        "drive.mount('/content/drive')"
      ],
      "metadata": {
        "colab": {
          "base_uri": "https://localhost:8080/"
        },
        "id": "_QJlQexs1g-I",
        "outputId": "4b0f7605-ca7d-47ae-f66f-5fdef8539a7d"
      },
      "execution_count": 40,
      "outputs": [
        {
          "output_type": "stream",
          "name": "stdout",
          "text": [
            "Drive already mounted at /content/drive; to attempt to forcibly remount, call drive.mount(\"/content/drive\", force_remount=True).\n"
          ]
        }
      ]
    },
    {
      "cell_type": "markdown",
      "source": [
        "**Baca file train.csv dan test.csv dari Google Drive.**"
      ],
      "metadata": {
        "id": "N96bhSh71hs5"
      }
    },
    {
      "cell_type": "code",
      "source": [
        "# Path to your dataset files\n",
        "train_path = '/content/drive/MyDrive/Machine Learning/Fashion/fashion-mnist_train.csv'\n",
        "test_path = '/content/drive/MyDrive/Machine Learning/Fashion/fashion-mnist_test.csv'\n",
        "\n",
        "# Load datasets\n",
        "train_df = pd.read_csv(train_path)\n",
        "test_df = pd.read_csv(test_path)"
      ],
      "metadata": {
        "id": "r56IbMB81hs5"
      },
      "execution_count": 41,
      "outputs": []
    },
    {
      "cell_type": "markdown",
      "source": [
        "**Pisahkan fitur dan label, normalisasi data, dan ubah label menjadi one-hot encoding.**"
      ],
      "metadata": {
        "id": "m75vovB21h1y"
      }
    },
    {
      "cell_type": "code",
      "source": [
        "# Split features and labels\n",
        "X_train = train_df.iloc[:, 1:].values\n",
        "y_train = train_df.iloc[:, 0].values\n",
        "X_test = test_df.iloc[:, 1:].values\n",
        "y_test = test_df.iloc[:, 0].values\n",
        "\n",
        "# Normalize the data\n",
        "X_train = X_train / 255.0\n",
        "X_test = X_test / 255.0\n",
        "\n",
        "# Reshape data to match the input shape of the CNN\n",
        "X_train = X_train.reshape(-1, 28, 28, 1)\n",
        "X_test = X_test.reshape(-1, 28, 28, 1)\n",
        "\n",
        "# One-hot encode the labels\n",
        "y_train = to_categorical(y_train, 10)\n",
        "y_test = to_categorical(y_test, 10)"
      ],
      "metadata": {
        "id": "OiYN5bwJ1h1y"
      },
      "execution_count": 42,
      "outputs": []
    },
    {
      "cell_type": "markdown",
      "source": [
        "**Definisikan arsitektur model NiN**"
      ],
      "metadata": {
        "id": "pu7xFY_E1h7a"
      }
    },
    {
      "cell_type": "code",
      "source": [
        "model = Sequential()\n",
        "\n",
        "# 1st mlpconv block\n",
        "model.add(Conv2D(filters=192, kernel_size=(5,5), padding='same', activation='relu', input_shape=(28,28,1)))\n",
        "model.add(Conv2D(filters=160, kernel_size=(1,1), padding='same', activation='relu'))\n",
        "model.add(Conv2D(filters=96, kernel_size=(1,1), padding='same', activation='relu'))\n",
        "model.add(MaxPooling2D(pool_size=(3,3), strides=(2,2), padding='valid'))\n",
        "model.add(Dropout(0.5))\n",
        "\n",
        "# 2nd mlpconv block\n",
        "model.add(Conv2D(filters=192, kernel_size=(5,5), padding='same', activation='relu'))\n",
        "model.add(Conv2D(filters=192, kernel_size=(1,1), padding='same', activation='relu'))\n",
        "model.add(Conv2D(filters=192, kernel_size=(1,1), padding='same', activation='relu'))\n",
        "model.add(MaxPooling2D(pool_size=(3,3), strides=(2,2), padding='valid'))\n",
        "model.add(Dropout(0.5))\n",
        "\n",
        "# 3rd mlpconv block\n",
        "model.add(Conv2D(filters=192, kernel_size=(3,3), padding='same', activation='relu'))\n",
        "model.add(Conv2D(filters=192, kernel_size=(1,1), padding='same', activation='relu'))\n",
        "model.add(Conv2D(filters=10, kernel_size=(1,1), padding='same', activation='relu'))\n",
        "\n",
        "# Global Average Pooling\n",
        "model.add(GlobalAveragePooling2D())\n",
        "model.add(Dense(10, activation='softmax'))\n",
        "\n",
        "# Print the model summary\n",
        "model.summary()\n"
      ],
      "metadata": {
        "colab": {
          "base_uri": "https://localhost:8080/"
        },
        "id": "1m7_OmI51h7a",
        "outputId": "a365fc61-25b6-4035-863b-f480cf017ed6"
      },
      "execution_count": 43,
      "outputs": [
        {
          "output_type": "stream",
          "name": "stdout",
          "text": [
            "Model: \"sequential_6\"\n",
            "_________________________________________________________________\n",
            " Layer (type)                Output Shape              Param #   \n",
            "=================================================================\n",
            " conv2d_36 (Conv2D)          (None, 28, 28, 192)       4992      \n",
            "                                                                 \n",
            " conv2d_37 (Conv2D)          (None, 28, 28, 160)       30880     \n",
            "                                                                 \n",
            " conv2d_38 (Conv2D)          (None, 28, 28, 96)        15456     \n",
            "                                                                 \n",
            " max_pooling2d_17 (MaxPooli  (None, 13, 13, 96)        0         \n",
            " ng2D)                                                           \n",
            "                                                                 \n",
            " dropout_10 (Dropout)        (None, 13, 13, 96)        0         \n",
            "                                                                 \n",
            " conv2d_39 (Conv2D)          (None, 13, 13, 192)       460992    \n",
            "                                                                 \n",
            " conv2d_40 (Conv2D)          (None, 13, 13, 192)       37056     \n",
            "                                                                 \n",
            " conv2d_41 (Conv2D)          (None, 13, 13, 192)       37056     \n",
            "                                                                 \n",
            " max_pooling2d_18 (MaxPooli  (None, 6, 6, 192)         0         \n",
            " ng2D)                                                           \n",
            "                                                                 \n",
            " dropout_11 (Dropout)        (None, 6, 6, 192)         0         \n",
            "                                                                 \n",
            " conv2d_42 (Conv2D)          (None, 6, 6, 192)         331968    \n",
            "                                                                 \n",
            " conv2d_43 (Conv2D)          (None, 6, 6, 192)         37056     \n",
            "                                                                 \n",
            " conv2d_44 (Conv2D)          (None, 6, 6, 10)          1930      \n",
            "                                                                 \n",
            " global_average_pooling2d (  (None, 10)                0         \n",
            " GlobalAveragePooling2D)                                         \n",
            "                                                                 \n",
            " dense_12 (Dense)            (None, 10)                110       \n",
            "                                                                 \n",
            "=================================================================\n",
            "Total params: 957496 (3.65 MB)\n",
            "Trainable params: 957496 (3.65 MB)\n",
            "Non-trainable params: 0 (0.00 Byte)\n",
            "_________________________________________________________________\n"
          ]
        }
      ]
    },
    {
      "cell_type": "markdown",
      "source": [
        "**Mengatur parameter untuk training.**"
      ],
      "metadata": {
        "id": "npRopS8F1iEB"
      }
    },
    {
      "cell_type": "code",
      "source": [
        "model.compile(optimizer='adam', loss='categorical_crossentropy', metrics=['accuracy'])"
      ],
      "metadata": {
        "id": "3DgT_giR1iEB"
      },
      "execution_count": 44,
      "outputs": []
    },
    {
      "cell_type": "markdown",
      "source": [
        "**Melatih model dengan data yang sudah disiapkan.**"
      ],
      "metadata": {
        "id": "M17OWf7Z1kU_"
      }
    },
    {
      "cell_type": "code",
      "source": [
        "history = model.fit(X_train, y_train, epochs=20, batch_size=64, validation_split=0.2)"
      ],
      "metadata": {
        "colab": {
          "base_uri": "https://localhost:8080/"
        },
        "id": "4orRgIo21kVA",
        "outputId": "e28a793d-cb2c-4f31-a18f-c9ad2ddbd61e"
      },
      "execution_count": 45,
      "outputs": [
        {
          "output_type": "stream",
          "name": "stdout",
          "text": [
            "Epoch 1/20\n",
            "750/750 [==============================] - 20s 22ms/step - loss: 1.2121 - accuracy: 0.5430 - val_loss: 0.6378 - val_accuracy: 0.7875\n",
            "Epoch 2/20\n",
            "750/750 [==============================] - 16s 21ms/step - loss: 0.5714 - accuracy: 0.7947 - val_loss: 0.4517 - val_accuracy: 0.8334\n",
            "Epoch 3/20\n",
            "750/750 [==============================] - 16s 22ms/step - loss: 0.4561 - accuracy: 0.8371 - val_loss: 0.3840 - val_accuracy: 0.8602\n",
            "Epoch 4/20\n",
            "750/750 [==============================] - 16s 21ms/step - loss: 0.3909 - accuracy: 0.8587 - val_loss: 0.3558 - val_accuracy: 0.8693\n",
            "Epoch 5/20\n",
            "750/750 [==============================] - 16s 21ms/step - loss: 0.3526 - accuracy: 0.8720 - val_loss: 0.3331 - val_accuracy: 0.8857\n",
            "Epoch 6/20\n",
            "750/750 [==============================] - 16s 21ms/step - loss: 0.3274 - accuracy: 0.8813 - val_loss: 0.3006 - val_accuracy: 0.8914\n",
            "Epoch 7/20\n",
            "750/750 [==============================] - 16s 21ms/step - loss: 0.3052 - accuracy: 0.8912 - val_loss: 0.2858 - val_accuracy: 0.8969\n",
            "Epoch 8/20\n",
            "750/750 [==============================] - 16s 21ms/step - loss: 0.2907 - accuracy: 0.8938 - val_loss: 0.2821 - val_accuracy: 0.9017\n",
            "Epoch 9/20\n",
            "750/750 [==============================] - 16s 21ms/step - loss: 0.2740 - accuracy: 0.8998 - val_loss: 0.2681 - val_accuracy: 0.9078\n",
            "Epoch 10/20\n",
            "750/750 [==============================] - 16s 21ms/step - loss: 0.2628 - accuracy: 0.9034 - val_loss: 0.2596 - val_accuracy: 0.9085\n",
            "Epoch 11/20\n",
            "750/750 [==============================] - 16s 21ms/step - loss: 0.2530 - accuracy: 0.9074 - val_loss: 0.2555 - val_accuracy: 0.9109\n",
            "Epoch 12/20\n",
            "750/750 [==============================] - 16s 21ms/step - loss: 0.2384 - accuracy: 0.9125 - val_loss: 0.2522 - val_accuracy: 0.9119\n",
            "Epoch 13/20\n",
            "750/750 [==============================] - 16s 21ms/step - loss: 0.2333 - accuracy: 0.9148 - val_loss: 0.2437 - val_accuracy: 0.9166\n",
            "Epoch 14/20\n",
            "750/750 [==============================] - 16s 21ms/step - loss: 0.2306 - accuracy: 0.9151 - val_loss: 0.2382 - val_accuracy: 0.9157\n",
            "Epoch 15/20\n",
            "750/750 [==============================] - 16s 21ms/step - loss: 0.2187 - accuracy: 0.9196 - val_loss: 0.2315 - val_accuracy: 0.9178\n",
            "Epoch 16/20\n",
            "750/750 [==============================] - 16s 21ms/step - loss: 0.2120 - accuracy: 0.9215 - val_loss: 0.2366 - val_accuracy: 0.9176\n",
            "Epoch 17/20\n",
            "750/750 [==============================] - 16s 21ms/step - loss: 0.2082 - accuracy: 0.9229 - val_loss: 0.2476 - val_accuracy: 0.9162\n",
            "Epoch 18/20\n",
            "750/750 [==============================] - 16s 21ms/step - loss: 0.1994 - accuracy: 0.9256 - val_loss: 0.2341 - val_accuracy: 0.9193\n",
            "Epoch 19/20\n",
            "750/750 [==============================] - 17s 23ms/step - loss: 0.1946 - accuracy: 0.9268 - val_loss: 0.2242 - val_accuracy: 0.9228\n",
            "Epoch 20/20\n",
            "750/750 [==============================] - 16s 21ms/step - loss: 0.1887 - accuracy: 0.9295 - val_loss: 0.2238 - val_accuracy: 0.9216\n"
          ]
        }
      ]
    },
    {
      "cell_type": "markdown",
      "source": [
        "**Mengevaluasi model dengan data uji.**"
      ],
      "metadata": {
        "id": "zcTxAx1_1kcH"
      }
    },
    {
      "cell_type": "code",
      "source": [
        "test_loss, test_accuracy = model.evaluate(X_test, y_test)\n",
        "print(f'Test Loss: {test_loss}')\n",
        "print(f'Test Accuracy: {test_accuracy}')\n"
      ],
      "metadata": {
        "colab": {
          "base_uri": "https://localhost:8080/"
        },
        "id": "uw0ZRmsD1kcI",
        "outputId": "30e314c7-2672-4a5b-b61f-c7150b80ff93"
      },
      "execution_count": 46,
      "outputs": [
        {
          "output_type": "stream",
          "name": "stdout",
          "text": [
            "313/313 [==============================] - 2s 6ms/step - loss: 0.2034 - accuracy: 0.9280\n",
            "Test Loss: 0.2034408152103424\n",
            "Test Accuracy: 0.9279999732971191\n"
          ]
        }
      ]
    },
    {
      "cell_type": "markdown",
      "source": [
        "**Visualisasi kinerja model selama training.**"
      ],
      "metadata": {
        "id": "FkKXoFHA1kgA"
      }
    },
    {
      "cell_type": "code",
      "source": [
        "# Plot training & validation accuracy values\n",
        "plt.plot(history.history['accuracy'])\n",
        "plt.plot(history.history['val_accuracy'])\n",
        "plt.title('Model accuracy')\n",
        "plt.xlabel('Epoch')\n",
        "plt.ylabel('Accuracy')\n",
        "plt.legend(['Train', 'Validation'], loc='upper left')\n",
        "plt.show()\n",
        "\n",
        "# Plot training & validation loss values\n",
        "plt.plot(history.history['loss'])\n",
        "plt.plot(history.history['val_loss'])\n",
        "plt.title('Model loss')\n",
        "plt.xlabel('Epoch')\n",
        "plt.ylabel('Loss')\n",
        "plt.legend(['Train', 'Validation'], loc='upper left')\n",
        "plt.show()\n"
      ],
      "metadata": {
        "colab": {
          "base_uri": "https://localhost:8080/",
          "height": 927
        },
        "id": "WT1N3LI31kgA",
        "outputId": "db567ada-394d-4362-e4d9-dce2173342bc"
      },
      "execution_count": 47,
      "outputs": [
        {
          "output_type": "display_data",
          "data": {
            "text/plain": [
              "<Figure size 640x480 with 1 Axes>"
            ],
            "image/png": "[encoded data removed]"
          },
          "metadata": {}
        },
        {
          "output_type": "display_data",
          "data": {
            "text/plain": [
              "<Figure size 640x480 with 1 Axes>"
            ],
            "image/png": "[encoded data removed]"
          },
          "metadata": {}
        }
      ]
    }
  ]
}