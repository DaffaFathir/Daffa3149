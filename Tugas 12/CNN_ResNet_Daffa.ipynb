{
  "nbformat": 4,
  "nbformat_minor": 0,
  "metadata": {
    "colab": {
      "provenance": [],
      "gpuType": "T4",
      "mount_file_id": "1pJfjdNYCVa5zXmbgVFd9FGZkze3TAfw8",
      "authorship_tag": "ABX9TyMlaN9/9MQiNz35+ITJ29F5",
      "include_colab_link": true
    },
    "kernelspec": {
      "name": "python3",
      "display_name": "Python 3"
    },
    "language_info": {
      "name": "python"
    },
    "accelerator": "GPU"
  },
  "cells": [
    {
      "cell_type": "markdown",
      "metadata": {
        "id": "view-in-github",
        "colab_type": "text"
      },
      "source": [
        "<a href=\"https://colab.research.google.com/github/DaffaFathir/Machine-Learning-Task/blob/main/Tugas%2012/CNN_ResNet_Daffa.ipynb\" target=\"_parent\"><img src=\"https://colab.research.google.com/assets/colab-badge.svg\" alt=\"Open In Colab\"/></a>"
      ]
    },
    {
      "cell_type": "code",
      "source": [
        "# Nama    : Daffa Fathir Fajri\n",
        "# NIM     : 1103213149\n",
        "# Kelas   : TK-45-04\n",
        "# Lecture : 12\n",
        "# Model   : CNN (ResNet)\n",
        "# Dataset : Fashion MNIST"
      ],
      "metadata": {
        "id": "UqGV1710wivo"
      },
      "execution_count": 78,
      "outputs": []
    },
    {
      "cell_type": "markdown",
      "source": [
        "chatGPT promph : https://chatgpt.com/share/19b146d0-c916-498c-96fa-844153d4128a"
      ],
      "metadata": {
        "id": "Dn9DirRYxhoK"
      }
    },
    {
      "cell_type": "markdown",
      "source": [
        "**Pertama, kita perlu mengimpor semua pustaka yang diperlukan.**"
      ],
      "metadata": {
        "id": "QrBeY1NW1anE"
      }
    },
    {
      "cell_type": "code",
      "source": [
        "import numpy as np\n",
        "import pandas as pd\n",
        "import tensorflow as tf\n",
        "from tensorflow.keras.models import Model\n",
        "from tensorflow.keras.layers import Input, Conv2D, MaxPooling2D, BatchNormalization, Activation, Add, GlobalAveragePooling2D, Dense\n",
        "from tensorflow.keras.utils import to_categorical\n",
        "from sklearn.model_selection import train_test_split\n",
        "import matplotlib.pyplot as plt\n",
        "from google.colab import drive\n"
      ],
      "metadata": {
        "id": "gjlLxEFs0Elu"
      },
      "execution_count": 79,
      "outputs": []
    },
    {
      "cell_type": "markdown",
      "source": [
        "**Hubungkan Google Drive agar kita bisa mengakses dataset.**"
      ],
      "metadata": {
        "id": "6VS0K-X91g-I"
      }
    },
    {
      "cell_type": "code",
      "source": [
        "drive.mount('/content/drive')"
      ],
      "metadata": {
        "colab": {
          "base_uri": "https://localhost:8080/"
        },
        "id": "_QJlQexs1g-I",
        "outputId": "67c02acc-e2f6-453b-9c29-badf9d8f0d18"
      },
      "execution_count": 80,
      "outputs": [
        {
          "output_type": "stream",
          "name": "stdout",
          "text": [
            "Drive already mounted at /content/drive; to attempt to forcibly remount, call drive.mount(\"/content/drive\", force_remount=True).\n"
          ]
        }
      ]
    },
    {
      "cell_type": "markdown",
      "source": [
        "**Baca file train.csv dan test.csv dari Google Drive.**"
      ],
      "metadata": {
        "id": "N96bhSh71hs5"
      }
    },
    {
      "cell_type": "code",
      "source": [
        "# Path to your dataset files\n",
        "train_path = '/content/drive/MyDrive/Machine Learning/Fashion/fashion-mnist_train.csv'\n",
        "test_path = '/content/drive/MyDrive/Machine Learning/Fashion/fashion-mnist_test.csv'\n",
        "\n",
        "# Load datasets\n",
        "train_df = pd.read_csv(train_path)\n",
        "test_df = pd.read_csv(test_path)"
      ],
      "metadata": {
        "id": "r56IbMB81hs5"
      },
      "execution_count": 81,
      "outputs": []
    },
    {
      "cell_type": "markdown",
      "source": [
        "**Pisahkan fitur dan label, normalisasi data, dan ubah label menjadi one-hot encoding.**"
      ],
      "metadata": {
        "id": "m75vovB21h1y"
      }
    },
    {
      "cell_type": "code",
      "source": [
        "# Split features and labels\n",
        "X_train = train_df.iloc[:, 1:].values\n",
        "y_train = train_df.iloc[:, 0].values\n",
        "X_test = test_df.iloc[:, 1:].values\n",
        "y_test = test_df.iloc[:, 0].values\n",
        "\n",
        "# Normalize the data\n",
        "X_train = X_train / 255.0\n",
        "X_test = X_test / 255.0\n",
        "\n",
        "# Reshape data to match the input shape of the CNN\n",
        "X_train = X_train.reshape(-1, 28, 28, 1)\n",
        "X_test = X_test.reshape(-1, 28, 28, 1)\n",
        "\n",
        "# One-hot encode the labels\n",
        "y_train = to_categorical(y_train, 10)\n",
        "y_test = to_categorical(y_test, 10)"
      ],
      "metadata": {
        "id": "OiYN5bwJ1h1y"
      },
      "execution_count": 82,
      "outputs": []
    },
    {
      "cell_type": "markdown",
      "source": [
        "**Definisikan arsitektur model ResNet**"
      ],
      "metadata": {
        "id": "pu7xFY_E1h7a"
      }
    },
    {
      "cell_type": "code",
      "source": [
        "def resnet_block(x, filters, kernel_size=3, stride=1, conv_shortcut=True):\n",
        "    shortcut = x\n",
        "    if conv_shortcut:\n",
        "        shortcut = Conv2D(filters, kernel_size=(1, 1), strides=stride, padding='same')(shortcut)\n",
        "        shortcut = BatchNormalization()(shortcut)\n",
        "\n",
        "    x = Conv2D(filters, kernel_size, strides=stride, padding='same')(x)\n",
        "    x = BatchNormalization()(x)\n",
        "    x = Activation('relu')(x)\n",
        "\n",
        "    x = Conv2D(filters, kernel_size, padding='same')(x)\n",
        "    x = BatchNormalization()(x)\n",
        "\n",
        "    x = Add()([x, shortcut])\n",
        "    x = Activation('relu')(x)\n",
        "    return x\n"
      ],
      "metadata": {
        "id": "1m7_OmI51h7a"
      },
      "execution_count": 83,
      "outputs": []
    },
    {
      "cell_type": "markdown",
      "source": [
        "**membuat Model ResNet**"
      ],
      "metadata": {
        "id": "rHh2yTbbES_U"
      }
    },
    {
      "cell_type": "code",
      "source": [
        "input_layer = Input(shape=(28, 28, 1))\n",
        "x = Conv2D(64, (7, 7), strides=(2, 2), padding='same')(input_layer)\n",
        "x = BatchNormalization()(x)\n",
        "x = Activation('relu')(x)\n",
        "x = MaxPooling2D((3, 3), strides=(2, 2), padding='same')(x)\n",
        "\n",
        "x = resnet_block(x, 64)\n",
        "x = resnet_block(x, 64)\n",
        "\n",
        "x = resnet_block(x, 128, stride=2)\n",
        "x = resnet_block(x, 128)\n",
        "\n",
        "x = resnet_block(x, 256, stride=2)\n",
        "x = resnet_block(x, 256)\n",
        "\n",
        "x = GlobalAveragePooling2D()(x)\n",
        "output_layer = Dense(10, activation='softmax')(x)\n",
        "\n",
        "model = Model(input_layer, output_layer)\n",
        "model.summary()\n"
      ],
      "metadata": {
        "colab": {
          "base_uri": "https://localhost:8080/"
        },
        "id": "0z8HFrJ2EWNG",
        "outputId": "e68aae9e-e084-4e66-c5b1-2a869fc6dc45"
      },
      "execution_count": 84,
      "outputs": [
        {
          "output_type": "stream",
          "name": "stdout",
          "text": [
            "Model: \"model_1\"\n",
            "__________________________________________________________________________________________________\n",
            " Layer (type)                Output Shape                 Param #   Connected to                  \n",
            "==================================================================================================\n",
            " input_5 (InputLayer)        [(None, 28, 28, 1)]          0         []                            \n",
            "                                                                                                  \n",
            " conv2d_106 (Conv2D)         (None, 14, 14, 64)           3200      ['input_5[0][0]']             \n",
            "                                                                                                  \n",
            " batch_normalization_12 (Ba  (None, 14, 14, 64)           256       ['conv2d_106[0][0]']          \n",
            " tchNormalization)                                                                                \n",
            "                                                                                                  \n",
            " activation (Activation)     (None, 14, 14, 64)           0         ['batch_normalization_12[0][0]\n",
            "                                                                    ']                            \n",
            "                                                                                                  \n",
            " max_pooling2d_38 (MaxPooli  (None, 7, 7, 64)             0         ['activation[0][0]']          \n",
            " ng2D)                                                                                            \n",
            "                                                                                                  \n",
            " conv2d_108 (Conv2D)         (None, 7, 7, 64)             36928     ['max_pooling2d_38[0][0]']    \n",
            "                                                                                                  \n",
            " batch_normalization_14 (Ba  (None, 7, 7, 64)             256       ['conv2d_108[0][0]']          \n",
            " tchNormalization)                                                                                \n",
            "                                                                                                  \n",
            " activation_1 (Activation)   (None, 7, 7, 64)             0         ['batch_normalization_14[0][0]\n",
            "                                                                    ']                            \n",
            "                                                                                                  \n",
            " conv2d_109 (Conv2D)         (None, 7, 7, 64)             36928     ['activation_1[0][0]']        \n",
            "                                                                                                  \n",
            " conv2d_107 (Conv2D)         (None, 7, 7, 64)             4160      ['max_pooling2d_38[0][0]']    \n",
            "                                                                                                  \n",
            " batch_normalization_15 (Ba  (None, 7, 7, 64)             256       ['conv2d_109[0][0]']          \n",
            " tchNormalization)                                                                                \n",
            "                                                                                                  \n",
            " batch_normalization_13 (Ba  (None, 7, 7, 64)             256       ['conv2d_107[0][0]']          \n",
            " tchNormalization)                                                                                \n",
            "                                                                                                  \n",
            " add (Add)                   (None, 7, 7, 64)             0         ['batch_normalization_15[0][0]\n",
            "                                                                    ',                            \n",
            "                                                                     'batch_normalization_13[0][0]\n",
            "                                                                    ']                            \n",
            "                                                                                                  \n",
            " activation_2 (Activation)   (None, 7, 7, 64)             0         ['add[0][0]']                 \n",
            "                                                                                                  \n",
            " conv2d_111 (Conv2D)         (None, 7, 7, 64)             36928     ['activation_2[0][0]']        \n",
            "                                                                                                  \n",
            " batch_normalization_17 (Ba  (None, 7, 7, 64)             256       ['conv2d_111[0][0]']          \n",
            " tchNormalization)                                                                                \n",
            "                                                                                                  \n",
            " activation_3 (Activation)   (None, 7, 7, 64)             0         ['batch_normalization_17[0][0]\n",
            "                                                                    ']                            \n",
            "                                                                                                  \n",
            " conv2d_112 (Conv2D)         (None, 7, 7, 64)             36928     ['activation_3[0][0]']        \n",
            "                                                                                                  \n",
            " conv2d_110 (Conv2D)         (None, 7, 7, 64)             4160      ['activation_2[0][0]']        \n",
            "                                                                                                  \n",
            " batch_normalization_18 (Ba  (None, 7, 7, 64)             256       ['conv2d_112[0][0]']          \n",
            " tchNormalization)                                                                                \n",
            "                                                                                                  \n",
            " batch_normalization_16 (Ba  (None, 7, 7, 64)             256       ['conv2d_110[0][0]']          \n",
            " tchNormalization)                                                                                \n",
            "                                                                                                  \n",
            " add_1 (Add)                 (None, 7, 7, 64)             0         ['batch_normalization_18[0][0]\n",
            "                                                                    ',                            \n",
            "                                                                     'batch_normalization_16[0][0]\n",
            "                                                                    ']                            \n",
            "                                                                                                  \n",
            " activation_4 (Activation)   (None, 7, 7, 64)             0         ['add_1[0][0]']               \n",
            "                                                                                                  \n",
            " conv2d_114 (Conv2D)         (None, 4, 4, 128)            73856     ['activation_4[0][0]']        \n",
            "                                                                                                  \n",
            " batch_normalization_20 (Ba  (None, 4, 4, 128)            512       ['conv2d_114[0][0]']          \n",
            " tchNormalization)                                                                                \n",
            "                                                                                                  \n",
            " activation_5 (Activation)   (None, 4, 4, 128)            0         ['batch_normalization_20[0][0]\n",
            "                                                                    ']                            \n",
            "                                                                                                  \n",
            " conv2d_115 (Conv2D)         (None, 4, 4, 128)            147584    ['activation_5[0][0]']        \n",
            "                                                                                                  \n",
            " conv2d_113 (Conv2D)         (None, 4, 4, 128)            8320      ['activation_4[0][0]']        \n",
            "                                                                                                  \n",
            " batch_normalization_21 (Ba  (None, 4, 4, 128)            512       ['conv2d_115[0][0]']          \n",
            " tchNormalization)                                                                                \n",
            "                                                                                                  \n",
            " batch_normalization_19 (Ba  (None, 4, 4, 128)            512       ['conv2d_113[0][0]']          \n",
            " tchNormalization)                                                                                \n",
            "                                                                                                  \n",
            " add_2 (Add)                 (None, 4, 4, 128)            0         ['batch_normalization_21[0][0]\n",
            "                                                                    ',                            \n",
            "                                                                     'batch_normalization_19[0][0]\n",
            "                                                                    ']                            \n",
            "                                                                                                  \n",
            " activation_6 (Activation)   (None, 4, 4, 128)            0         ['add_2[0][0]']               \n",
            "                                                                                                  \n",
            " conv2d_117 (Conv2D)         (None, 4, 4, 128)            147584    ['activation_6[0][0]']        \n",
            "                                                                                                  \n",
            " batch_normalization_23 (Ba  (None, 4, 4, 128)            512       ['conv2d_117[0][0]']          \n",
            " tchNormalization)                                                                                \n",
            "                                                                                                  \n",
            " activation_7 (Activation)   (None, 4, 4, 128)            0         ['batch_normalization_23[0][0]\n",
            "                                                                    ']                            \n",
            "                                                                                                  \n",
            " conv2d_118 (Conv2D)         (None, 4, 4, 128)            147584    ['activation_7[0][0]']        \n",
            "                                                                                                  \n",
            " conv2d_116 (Conv2D)         (None, 4, 4, 128)            16512     ['activation_6[0][0]']        \n",
            "                                                                                                  \n",
            " batch_normalization_24 (Ba  (None, 4, 4, 128)            512       ['conv2d_118[0][0]']          \n",
            " tchNormalization)                                                                                \n",
            "                                                                                                  \n",
            " batch_normalization_22 (Ba  (None, 4, 4, 128)            512       ['conv2d_116[0][0]']          \n",
            " tchNormalization)                                                                                \n",
            "                                                                                                  \n",
            " add_3 (Add)                 (None, 4, 4, 128)            0         ['batch_normalization_24[0][0]\n",
            "                                                                    ',                            \n",
            "                                                                     'batch_normalization_22[0][0]\n",
            "                                                                    ']                            \n",
            "                                                                                                  \n",
            " activation_8 (Activation)   (None, 4, 4, 128)            0         ['add_3[0][0]']               \n",
            "                                                                                                  \n",
            " conv2d_120 (Conv2D)         (None, 2, 2, 256)            295168    ['activation_8[0][0]']        \n",
            "                                                                                                  \n",
            " batch_normalization_26 (Ba  (None, 2, 2, 256)            1024      ['conv2d_120[0][0]']          \n",
            " tchNormalization)                                                                                \n",
            "                                                                                                  \n",
            " activation_9 (Activation)   (None, 2, 2, 256)            0         ['batch_normalization_26[0][0]\n",
            "                                                                    ']                            \n",
            "                                                                                                  \n",
            " conv2d_121 (Conv2D)         (None, 2, 2, 256)            590080    ['activation_9[0][0]']        \n",
            "                                                                                                  \n",
            " conv2d_119 (Conv2D)         (None, 2, 2, 256)            33024     ['activation_8[0][0]']        \n",
            "                                                                                                  \n",
            " batch_normalization_27 (Ba  (None, 2, 2, 256)            1024      ['conv2d_121[0][0]']          \n",
            " tchNormalization)                                                                                \n",
            "                                                                                                  \n",
            " batch_normalization_25 (Ba  (None, 2, 2, 256)            1024      ['conv2d_119[0][0]']          \n",
            " tchNormalization)                                                                                \n",
            "                                                                                                  \n",
            " add_4 (Add)                 (None, 2, 2, 256)            0         ['batch_normalization_27[0][0]\n",
            "                                                                    ',                            \n",
            "                                                                     'batch_normalization_25[0][0]\n",
            "                                                                    ']                            \n",
            "                                                                                                  \n",
            " activation_10 (Activation)  (None, 2, 2, 256)            0         ['add_4[0][0]']               \n",
            "                                                                                                  \n",
            " conv2d_123 (Conv2D)         (None, 2, 2, 256)            590080    ['activation_10[0][0]']       \n",
            "                                                                                                  \n",
            " batch_normalization_29 (Ba  (None, 2, 2, 256)            1024      ['conv2d_123[0][0]']          \n",
            " tchNormalization)                                                                                \n",
            "                                                                                                  \n",
            " activation_11 (Activation)  (None, 2, 2, 256)            0         ['batch_normalization_29[0][0]\n",
            "                                                                    ']                            \n",
            "                                                                                                  \n",
            " conv2d_124 (Conv2D)         (None, 2, 2, 256)            590080    ['activation_11[0][0]']       \n",
            "                                                                                                  \n",
            " conv2d_122 (Conv2D)         (None, 2, 2, 256)            65792     ['activation_10[0][0]']       \n",
            "                                                                                                  \n",
            " batch_normalization_30 (Ba  (None, 2, 2, 256)            1024      ['conv2d_124[0][0]']          \n",
            " tchNormalization)                                                                                \n",
            "                                                                                                  \n",
            " batch_normalization_28 (Ba  (None, 2, 2, 256)            1024      ['conv2d_122[0][0]']          \n",
            " tchNormalization)                                                                                \n",
            "                                                                                                  \n",
            " add_5 (Add)                 (None, 2, 2, 256)            0         ['batch_normalization_30[0][0]\n",
            "                                                                    ',                            \n",
            "                                                                     'batch_normalization_28[0][0]\n",
            "                                                                    ']                            \n",
            "                                                                                                  \n",
            " activation_12 (Activation)  (None, 2, 2, 256)            0         ['add_5[0][0]']               \n",
            "                                                                                                  \n",
            " global_average_pooling2d_1  (None, 256)                  0         ['activation_12[0][0]']       \n",
            "  (GlobalAveragePooling2D)                                                                        \n",
            "                                                                                                  \n",
            " dense_15 (Dense)            (None, 10)                   2570      ['global_average_pooling2d_1[0\n",
            "                                                                    ][0]']                        \n",
            "                                                                                                  \n",
            "==================================================================================================\n",
            "Total params: 2878474 (10.98 MB)\n",
            "Trainable params: 2872970 (10.96 MB)\n",
            "Non-trainable params: 5504 (21.50 KB)\n",
            "__________________________________________________________________________________________________\n"
          ]
        }
      ]
    },
    {
      "cell_type": "markdown",
      "source": [
        "**Mengatur parameter untuk training.**"
      ],
      "metadata": {
        "id": "npRopS8F1iEB"
      }
    },
    {
      "cell_type": "code",
      "source": [
        "model.compile(optimizer='adam', loss='categorical_crossentropy', metrics=['accuracy'])"
      ],
      "metadata": {
        "id": "3DgT_giR1iEB"
      },
      "execution_count": 85,
      "outputs": []
    },
    {
      "cell_type": "markdown",
      "source": [
        "**Melatih model dengan data yang sudah disiapkan.**"
      ],
      "metadata": {
        "id": "M17OWf7Z1kU_"
      }
    },
    {
      "cell_type": "code",
      "source": [
        "history = model.fit(X_train, y_train, epochs=20, batch_size=64, validation_split=0.2)"
      ],
      "metadata": {
        "colab": {
          "base_uri": "https://localhost:8080/"
        },
        "id": "4orRgIo21kVA",
        "outputId": "82ec947f-79a2-40e9-caec-eaf80dd3716c"
      },
      "execution_count": 86,
      "outputs": [
        {
          "output_type": "stream",
          "name": "stdout",
          "text": [
            "Epoch 1/20\n",
            "750/750 [==============================] - 26s 18ms/step - loss: 0.4284 - accuracy: 0.8425 - val_loss: 0.4496 - val_accuracy: 0.8436\n",
            "Epoch 2/20\n",
            "750/750 [==============================] - 14s 18ms/step - loss: 0.3057 - accuracy: 0.8879 - val_loss: 0.2903 - val_accuracy: 0.8924\n",
            "Epoch 3/20\n",
            "750/750 [==============================] - 13s 18ms/step - loss: 0.2619 - accuracy: 0.9036 - val_loss: 0.2894 - val_accuracy: 0.8923\n",
            "Epoch 4/20\n",
            "750/750 [==============================] - 13s 17ms/step - loss: 0.2350 - accuracy: 0.9127 - val_loss: 0.2723 - val_accuracy: 0.8972\n",
            "Epoch 5/20\n",
            "750/750 [==============================] - 13s 17ms/step - loss: 0.2145 - accuracy: 0.9206 - val_loss: 0.2771 - val_accuracy: 0.9006\n",
            "Epoch 6/20\n",
            "750/750 [==============================] - 14s 19ms/step - loss: 0.1961 - accuracy: 0.9269 - val_loss: 0.3134 - val_accuracy: 0.8895\n",
            "Epoch 7/20\n",
            "750/750 [==============================] - 14s 19ms/step - loss: 0.1765 - accuracy: 0.9336 - val_loss: 0.2849 - val_accuracy: 0.9015\n",
            "Epoch 8/20\n",
            "750/750 [==============================] - 13s 18ms/step - loss: 0.1599 - accuracy: 0.9398 - val_loss: 0.2678 - val_accuracy: 0.9103\n",
            "Epoch 9/20\n",
            "750/750 [==============================] - 14s 18ms/step - loss: 0.1436 - accuracy: 0.9448 - val_loss: 0.2865 - val_accuracy: 0.9060\n",
            "Epoch 10/20\n",
            "750/750 [==============================] - 13s 18ms/step - loss: 0.1326 - accuracy: 0.9497 - val_loss: 0.3327 - val_accuracy: 0.8968\n",
            "Epoch 11/20\n",
            "750/750 [==============================] - 13s 17ms/step - loss: 0.1169 - accuracy: 0.9554 - val_loss: 0.2973 - val_accuracy: 0.9073\n",
            "Epoch 12/20\n",
            "750/750 [==============================] - 12s 16ms/step - loss: 0.1046 - accuracy: 0.9603 - val_loss: 0.3637 - val_accuracy: 0.8937\n",
            "Epoch 13/20\n",
            "750/750 [==============================] - 13s 17ms/step - loss: 0.0938 - accuracy: 0.9646 - val_loss: 0.3060 - val_accuracy: 0.9129\n",
            "Epoch 14/20\n",
            "750/750 [==============================] - 13s 17ms/step - loss: 0.0836 - accuracy: 0.9689 - val_loss: 0.3257 - val_accuracy: 0.9110\n",
            "Epoch 15/20\n",
            "750/750 [==============================] - 13s 18ms/step - loss: 0.0739 - accuracy: 0.9721 - val_loss: 0.3369 - val_accuracy: 0.9117\n",
            "Epoch 16/20\n",
            "750/750 [==============================] - 13s 18ms/step - loss: 0.0678 - accuracy: 0.9754 - val_loss: 0.3601 - val_accuracy: 0.9053\n",
            "Epoch 17/20\n",
            "750/750 [==============================] - 13s 18ms/step - loss: 0.0613 - accuracy: 0.9768 - val_loss: 0.3728 - val_accuracy: 0.9101\n",
            "Epoch 18/20\n",
            "750/750 [==============================] - 13s 18ms/step - loss: 0.0540 - accuracy: 0.9801 - val_loss: 0.3859 - val_accuracy: 0.9031\n",
            "Epoch 19/20\n",
            "750/750 [==============================] - 15s 20ms/step - loss: 0.0516 - accuracy: 0.9809 - val_loss: 0.4016 - val_accuracy: 0.9068\n",
            "Epoch 20/20\n",
            "750/750 [==============================] - 14s 18ms/step - loss: 0.0473 - accuracy: 0.9828 - val_loss: 0.3855 - val_accuracy: 0.9107\n"
          ]
        }
      ]
    },
    {
      "cell_type": "markdown",
      "source": [
        "**Mengevaluasi model dengan data uji.**"
      ],
      "metadata": {
        "id": "zcTxAx1_1kcH"
      }
    },
    {
      "cell_type": "code",
      "source": [
        "test_loss, test_accuracy = model.evaluate(X_test, y_test)\n",
        "print(f'Test Loss: {test_loss}')\n",
        "print(f'Test Accuracy: {test_accuracy}')\n"
      ],
      "metadata": {
        "colab": {
          "base_uri": "https://localhost:8080/"
        },
        "id": "uw0ZRmsD1kcI",
        "outputId": "50838987-a3c5-4b09-fa1b-e4a9d9f721dc"
      },
      "execution_count": 87,
      "outputs": [
        {
          "output_type": "stream",
          "name": "stdout",
          "text": [
            "313/313 [==============================] - 2s 6ms/step - loss: 0.3718 - accuracy: 0.9134\n",
            "Test Loss: 0.3718419075012207\n",
            "Test Accuracy: 0.9133999943733215\n"
          ]
        }
      ]
    },
    {
      "cell_type": "markdown",
      "source": [
        "**Visualisasi kinerja model selama training.**"
      ],
      "metadata": {
        "id": "FkKXoFHA1kgA"
      }
    },
    {
      "cell_type": "code",
      "source": [
        "# Plot training & validation accuracy values\n",
        "plt.plot(history.history['accuracy'])\n",
        "plt.plot(history.history['val_accuracy'])\n",
        "plt.title('Model accuracy')\n",
        "plt.xlabel('Epoch')\n",
        "plt.ylabel('Accuracy')\n",
        "plt.legend(['Train', 'Validation'], loc='upper left')\n",
        "plt.show()\n",
        "\n",
        "# Plot training & validation loss values\n",
        "plt.plot(history.history['loss'])\n",
        "plt.plot(history.history['val_loss'])\n",
        "plt.title('Model loss')\n",
        "plt.xlabel('Epoch')\n",
        "plt.ylabel('Loss')\n",
        "plt.legend(['Train', 'Validation'], loc='upper left')\n",
        "plt.show()\n"
      ],
      "metadata": {
        "colab": {
          "base_uri": "https://localhost:8080/",
          "height": 927
        },
        "id": "WT1N3LI31kgA",
        "outputId": "d4acda70-f057-40e3-91f4-674f89b40f82"
      },
      "execution_count": 88,
      "outputs": [
        {
          "output_type": "display_data",
          "data": {
            "text/plain": [
              "<Figure size 640x480 with 1 Axes>"
            ],
            "image/png": "[encoded data removed]"
          },
          "metadata": {}
        },
        {
          "output_type": "display_data",
          "data": {
            "text/plain": [
              "<Figure size 640x480 with 1 Axes>"
            ],
            "image/png": "[encoded data removed]"
          },
          "metadata": {}
        }
      ]
    }
  ]
}