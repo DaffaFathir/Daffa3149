{
  "nbformat": 4,
  "nbformat_minor": 0,
  "metadata": {
    "colab": {
      "provenance": [],
      "gpuType": "T4",
      "mount_file_id": "1pJfjdNYCVa5zXmbgVFd9FGZkze3TAfw8",
      "authorship_tag": "ABX9TyNsu8k4FIx9yz8sy6Hmhsyb",
      "include_colab_link": true
    },
    "kernelspec": {
      "name": "python3",
      "display_name": "Python 3"
    },
    "language_info": {
      "name": "python"
    },
    "accelerator": "GPU"
  },
  "cells": [
    {
      "cell_type": "markdown",
      "metadata": {
        "id": "view-in-github",
        "colab_type": "text"
      },
      "source": [
        "<a href=\"https://colab.research.google.com/github/DaffaFathir/Machine-Learning-Task/blob/main/Tugas%2012/CNN_VGG_Daffa.ipynb\" target=\"_parent\"><img src=\"https://colab.research.google.com/assets/colab-badge.svg\" alt=\"Open In Colab\"/></a>"
      ]
    },
    {
      "cell_type": "code",
      "source": [
        "# Nama    : Daffa Fathir Fajri\n",
        "# NIM     : 1103213149\n",
        "# Kelas   : TK-45-04\n",
        "# Lecture : 12\n",
        "# Model   : CNN (VGG)\n",
        "# Dataset : Fashion MNIST"
      ],
      "metadata": {
        "id": "UqGV1710wivo"
      },
      "execution_count": 22,
      "outputs": []
    },
    {
      "cell_type": "markdown",
      "source": [
        "chatGPT promph : https://chatgpt.com/share/19b146d0-c916-498c-96fa-844153d4128a"
      ],
      "metadata": {
        "id": "Dn9DirRYxhoK"
      }
    },
    {
      "cell_type": "markdown",
      "source": [
        "**Pertama, kita perlu mengimpor semua pustaka yang diperlukan.**"
      ],
      "metadata": {
        "id": "QrBeY1NW1anE"
      }
    },
    {
      "cell_type": "code",
      "source": [
        "import numpy as np\n",
        "import pandas as pd\n",
        "import tensorflow as tf\n",
        "from tensorflow.keras.models import Sequential\n",
        "from tensorflow.keras.layers import Conv2D, MaxPooling2D, Flatten, Dense, Dropout\n",
        "from tensorflow.keras.utils import to_categorical\n",
        "from sklearn.model_selection import train_test_split\n",
        "import matplotlib.pyplot as plt\n",
        "from google.colab import drive\n"
      ],
      "metadata": {
        "id": "gjlLxEFs0Elu"
      },
      "execution_count": 23,
      "outputs": []
    },
    {
      "cell_type": "markdown",
      "source": [
        "**Hubungkan Google Drive agar kita bisa mengakses dataset.**"
      ],
      "metadata": {
        "id": "6VS0K-X91g-I"
      }
    },
    {
      "cell_type": "code",
      "source": [
        "drive.mount('/content/drive')"
      ],
      "metadata": {
        "colab": {
          "base_uri": "https://localhost:8080/"
        },
        "id": "_QJlQexs1g-I",
        "outputId": "733fcacd-b40f-4173-fd3a-e417e5285649"
      },
      "execution_count": 24,
      "outputs": [
        {
          "output_type": "stream",
          "name": "stdout",
          "text": [
            "Drive already mounted at /content/drive; to attempt to forcibly remount, call drive.mount(\"/content/drive\", force_remount=True).\n"
          ]
        }
      ]
    },
    {
      "cell_type": "markdown",
      "source": [
        "**Baca file train.csv dan test.csv dari Google Drive.**"
      ],
      "metadata": {
        "id": "N96bhSh71hs5"
      }
    },
    {
      "cell_type": "code",
      "source": [
        "# Path to your dataset files\n",
        "train_path = '/content/drive/MyDrive/Machine Learning/Fashion/fashion-mnist_train.csv'\n",
        "test_path = '/content/drive/MyDrive/Machine Learning/Fashion/fashion-mnist_test.csv'\n",
        "\n",
        "# Load datasets\n",
        "train_df = pd.read_csv(train_path)\n",
        "test_df = pd.read_csv(test_path)"
      ],
      "metadata": {
        "id": "r56IbMB81hs5"
      },
      "execution_count": 25,
      "outputs": []
    },
    {
      "cell_type": "markdown",
      "source": [
        "**Pisahkan fitur dan label, normalisasi data, dan ubah label menjadi one-hot encoding.**"
      ],
      "metadata": {
        "id": "m75vovB21h1y"
      }
    },
    {
      "cell_type": "code",
      "source": [
        "# Split features and labels\n",
        "X_train = train_df.iloc[:, 1:].values\n",
        "y_train = train_df.iloc[:, 0].values\n",
        "X_test = test_df.iloc[:, 1:].values\n",
        "y_test = test_df.iloc[:, 0].values\n",
        "\n",
        "# Normalize the data\n",
        "X_train = X_train / 255.0\n",
        "X_test = X_test / 255.0\n",
        "\n",
        "# Reshape data to match the input shape of the CNN\n",
        "X_train = X_train.reshape(-1, 28, 28, 1)\n",
        "X_test = X_test.reshape(-1, 28, 28, 1)\n",
        "\n",
        "# One-hot encode the labels\n",
        "y_train = to_categorical(y_train, 10)\n",
        "y_test = to_categorical(y_test, 10)"
      ],
      "metadata": {
        "id": "OiYN5bwJ1h1y"
      },
      "execution_count": 26,
      "outputs": []
    },
    {
      "cell_type": "markdown",
      "source": [
        "**Definisikan arsitektur model VGG.**"
      ],
      "metadata": {
        "id": "pu7xFY_E1h7a"
      }
    },
    {
      "cell_type": "code",
      "source": [
        "model = Sequential()\n",
        "\n",
        "# 1st Convolutional Block\n",
        "model.add(Conv2D(filters=64, kernel_size=(3,3), activation='relu', padding='same', input_shape=(28,28,1)))\n",
        "model.add(Conv2D(filters=64, kernel_size=(3,3), activation='relu', padding='same'))\n",
        "model.add(MaxPooling2D(pool_size=(2,2), strides=(2,2)))\n",
        "\n",
        "# 2nd Convolutional Block\n",
        "model.add(Conv2D(filters=128, kernel_size=(3,3), activation='relu', padding='same'))\n",
        "model.add(Conv2D(filters=128, kernel_size=(3,3), activation='relu', padding='same'))\n",
        "model.add(MaxPooling2D(pool_size=(2,2), strides=(2,2)))\n",
        "\n",
        "# 3rd Convolutional Block\n",
        "model.add(Conv2D(filters=256, kernel_size=(3,3), activation='relu', padding='same'))\n",
        "model.add(Conv2D(filters=256, kernel_size=(3,3), activation='relu', padding='same'))\n",
        "model.add(Conv2D(filters=256, kernel_size=(3,3), activation='relu', padding='same'))\n",
        "model.add(MaxPooling2D(pool_size=(2,2), strides=(2,2)))\n",
        "\n",
        "# Flattening\n",
        "model.add(Flatten())\n",
        "\n",
        "# Fully Connected Layers\n",
        "model.add(Dense(512, activation='relu'))\n",
        "model.add(Dropout(0.5))\n",
        "model.add(Dense(512, activation='relu'))\n",
        "model.add(Dropout(0.5))\n",
        "\n",
        "# Output Layer\n",
        "model.add(Dense(10, activation='softmax'))\n",
        "\n",
        "# Print the model summary\n",
        "model.summary()\n"
      ],
      "metadata": {
        "colab": {
          "base_uri": "https://localhost:8080/"
        },
        "id": "1m7_OmI51h7a",
        "outputId": "8c913445-7e1e-4316-bd18-392ae1981039"
      },
      "execution_count": 27,
      "outputs": [
        {
          "output_type": "stream",
          "name": "stdout",
          "text": [
            "Model: \"sequential_4\"\n",
            "_________________________________________________________________\n",
            " Layer (type)                Output Shape              Param #   \n",
            "=================================================================\n",
            " conv2d_20 (Conv2D)          (None, 28, 28, 64)        640       \n",
            "                                                                 \n",
            " conv2d_21 (Conv2D)          (None, 28, 28, 64)        36928     \n",
            "                                                                 \n",
            " max_pooling2d_12 (MaxPooli  (None, 14, 14, 64)        0         \n",
            " ng2D)                                                           \n",
            "                                                                 \n",
            " conv2d_22 (Conv2D)          (None, 14, 14, 128)       73856     \n",
            "                                                                 \n",
            " conv2d_23 (Conv2D)          (None, 14, 14, 128)       147584    \n",
            "                                                                 \n",
            " max_pooling2d_13 (MaxPooli  (None, 7, 7, 128)         0         \n",
            " ng2D)                                                           \n",
            "                                                                 \n",
            " conv2d_24 (Conv2D)          (None, 7, 7, 256)         295168    \n",
            "                                                                 \n",
            " conv2d_25 (Conv2D)          (None, 7, 7, 256)         590080    \n",
            "                                                                 \n",
            " conv2d_26 (Conv2D)          (None, 7, 7, 256)         590080    \n",
            "                                                                 \n",
            " max_pooling2d_14 (MaxPooli  (None, 3, 3, 256)         0         \n",
            " ng2D)                                                           \n",
            "                                                                 \n",
            " flatten_3 (Flatten)         (None, 2304)              0         \n",
            "                                                                 \n",
            " dense_9 (Dense)             (None, 512)               1180160   \n",
            "                                                                 \n",
            " dropout_6 (Dropout)         (None, 512)               0         \n",
            "                                                                 \n",
            " dense_10 (Dense)            (None, 512)               262656    \n",
            "                                                                 \n",
            " dropout_7 (Dropout)         (None, 512)               0         \n",
            "                                                                 \n",
            " dense_11 (Dense)            (None, 10)                5130      \n",
            "                                                                 \n",
            "=================================================================\n",
            "Total params: 3182282 (12.14 MB)\n",
            "Trainable params: 3182282 (12.14 MB)\n",
            "Non-trainable params: 0 (0.00 Byte)\n",
            "_________________________________________________________________\n"
          ]
        }
      ]
    },
    {
      "cell_type": "markdown",
      "source": [
        "**Mengatur parameter untuk training.**"
      ],
      "metadata": {
        "id": "npRopS8F1iEB"
      }
    },
    {
      "cell_type": "code",
      "source": [
        "model.compile(optimizer='adam', loss='categorical_crossentropy', metrics=['accuracy'])"
      ],
      "metadata": {
        "id": "3DgT_giR1iEB"
      },
      "execution_count": 28,
      "outputs": []
    },
    {
      "cell_type": "markdown",
      "source": [
        "**Melatih model dengan data yang sudah disiapkan.**"
      ],
      "metadata": {
        "id": "M17OWf7Z1kU_"
      }
    },
    {
      "cell_type": "code",
      "source": [
        "history = model.fit(X_train, y_train, epochs=20, batch_size=64, validation_split=0.2)"
      ],
      "metadata": {
        "colab": {
          "base_uri": "https://localhost:8080/"
        },
        "id": "4orRgIo21kVA",
        "outputId": "3c9bb058-e70c-49fb-bbb0-e4463a9659c7"
      },
      "execution_count": 29,
      "outputs": [
        {
          "output_type": "stream",
          "name": "stdout",
          "text": [
            "Epoch 1/20\n",
            "750/750 [==============================] - 19s 18ms/step - loss: 0.5881 - accuracy: 0.7849 - val_loss: 0.3316 - val_accuracy: 0.8811\n",
            "Epoch 2/20\n",
            "750/750 [==============================] - 12s 16ms/step - loss: 0.3201 - accuracy: 0.8865 - val_loss: 0.3151 - val_accuracy: 0.8900\n",
            "Epoch 3/20\n",
            "750/750 [==============================] - 12s 16ms/step - loss: 0.2727 - accuracy: 0.9017 - val_loss: 0.2933 - val_accuracy: 0.9025\n",
            "Epoch 4/20\n",
            "750/750 [==============================] - 12s 16ms/step - loss: 0.2420 - accuracy: 0.9140 - val_loss: 0.2586 - val_accuracy: 0.9107\n",
            "Epoch 5/20\n",
            "750/750 [==============================] - 13s 17ms/step - loss: 0.2155 - accuracy: 0.9222 - val_loss: 0.2348 - val_accuracy: 0.9203\n",
            "Epoch 6/20\n",
            "750/750 [==============================] - 12s 16ms/step - loss: 0.1956 - accuracy: 0.9312 - val_loss: 0.2269 - val_accuracy: 0.9220\n",
            "Epoch 7/20\n",
            "750/750 [==============================] - 12s 16ms/step - loss: 0.1788 - accuracy: 0.9368 - val_loss: 0.2337 - val_accuracy: 0.9216\n",
            "Epoch 8/20\n",
            "750/750 [==============================] - 12s 16ms/step - loss: 0.1609 - accuracy: 0.9426 - val_loss: 0.2263 - val_accuracy: 0.9268\n",
            "Epoch 9/20\n",
            "750/750 [==============================] - 12s 17ms/step - loss: 0.1500 - accuracy: 0.9464 - val_loss: 0.2224 - val_accuracy: 0.9248\n",
            "Epoch 10/20\n",
            "750/750 [==============================] - 12s 17ms/step - loss: 0.1349 - accuracy: 0.9519 - val_loss: 0.2504 - val_accuracy: 0.9148\n",
            "Epoch 11/20\n",
            "750/750 [==============================] - 12s 16ms/step - loss: 0.1255 - accuracy: 0.9562 - val_loss: 0.2558 - val_accuracy: 0.9250\n",
            "Epoch 12/20\n",
            "750/750 [==============================] - 12s 16ms/step - loss: 0.1124 - accuracy: 0.9600 - val_loss: 0.2788 - val_accuracy: 0.9256\n",
            "Epoch 13/20\n",
            "750/750 [==============================] - 12s 16ms/step - loss: 0.1117 - accuracy: 0.9617 - val_loss: 0.2573 - val_accuracy: 0.9247\n",
            "Epoch 14/20\n",
            "750/750 [==============================] - 12s 16ms/step - loss: 0.1009 - accuracy: 0.9650 - val_loss: 0.2696 - val_accuracy: 0.9230\n",
            "Epoch 15/20\n",
            "750/750 [==============================] - 12s 16ms/step - loss: 0.0929 - accuracy: 0.9673 - val_loss: 0.3086 - val_accuracy: 0.9226\n",
            "Epoch 16/20\n",
            "750/750 [==============================] - 12s 16ms/step - loss: 0.0947 - accuracy: 0.9676 - val_loss: 0.3114 - val_accuracy: 0.9256\n",
            "Epoch 17/20\n",
            "750/750 [==============================] - 12s 16ms/step - loss: 0.0806 - accuracy: 0.9721 - val_loss: 0.3876 - val_accuracy: 0.9209\n",
            "Epoch 18/20\n",
            "750/750 [==============================] - 12s 16ms/step - loss: 0.0869 - accuracy: 0.9716 - val_loss: 0.3165 - val_accuracy: 0.9256\n",
            "Epoch 19/20\n",
            "750/750 [==============================] - 12s 16ms/step - loss: 0.0840 - accuracy: 0.9726 - val_loss: 0.3852 - val_accuracy: 0.9198\n",
            "Epoch 20/20\n",
            "750/750 [==============================] - 12s 16ms/step - loss: 0.0754 - accuracy: 0.9747 - val_loss: 0.3664 - val_accuracy: 0.9197\n"
          ]
        }
      ]
    },
    {
      "cell_type": "markdown",
      "source": [
        "**Mengevaluasi model dengan data uji.**"
      ],
      "metadata": {
        "id": "zcTxAx1_1kcH"
      }
    },
    {
      "cell_type": "code",
      "source": [
        "test_loss, test_accuracy = model.evaluate(X_test, y_test)\n",
        "print(f'Test Loss: {test_loss}')\n",
        "print(f'Test Accuracy: {test_accuracy}')\n"
      ],
      "metadata": {
        "colab": {
          "base_uri": "https://localhost:8080/"
        },
        "id": "uw0ZRmsD1kcI",
        "outputId": "6eec195c-27e6-4208-e97b-6601a4a10866"
      },
      "execution_count": 30,
      "outputs": [
        {
          "output_type": "stream",
          "name": "stdout",
          "text": [
            "313/313 [==============================] - 2s 7ms/step - loss: 0.3511 - accuracy: 0.9238\n",
            "Test Loss: 0.35105547308921814\n",
            "Test Accuracy: 0.923799991607666\n"
          ]
        }
      ]
    },
    {
      "cell_type": "markdown",
      "source": [
        "**Visualisasi kinerja model selama training.**"
      ],
      "metadata": {
        "id": "FkKXoFHA1kgA"
      }
    },
    {
      "cell_type": "code",
      "source": [
        "# Plot training & validation accuracy values\n",
        "plt.plot(history.history['accuracy'])\n",
        "plt.plot(history.history['val_accuracy'])\n",
        "plt.title('Model accuracy')\n",
        "plt.xlabel('Epoch')\n",
        "plt.ylabel('Accuracy')\n",
        "plt.legend(['Train', 'Validation'], loc='upper left')\n",
        "plt.show()\n",
        "\n",
        "# Plot training & validation loss values\n",
        "plt.plot(history.history['loss'])\n",
        "plt.plot(history.history['val_loss'])\n",
        "plt.title('Model loss')\n",
        "plt.xlabel('Epoch')\n",
        "plt.ylabel('Loss')\n",
        "plt.legend(['Train', 'Validation'], loc='upper left')\n",
        "plt.show()\n"
      ],
      "metadata": {
        "colab": {
          "base_uri": "https://localhost:8080/",
          "height": 927
        },
        "id": "WT1N3LI31kgA",
        "outputId": "e4500f7e-db6e-4560-afe1-67976afd8368"
      },
      "execution_count": 31,
      "outputs": [
        {
          "output_type": "display_data",
          "data": {
            "text/plain": [
              "<Figure size 640x480 with 1 Axes>"
            ],
            "image/png": "[encoded data removed]"
          },
          "metadata": {}
        },
        {
          "output_type": "display_data",
          "data": {
            "text/plain": [
              "<Figure size 640x480 with 1 Axes>"
            ],
            "image/png": "[encoded data removed]"
          },
          "metadata": {}
        }
      ]
    }
  ]
}