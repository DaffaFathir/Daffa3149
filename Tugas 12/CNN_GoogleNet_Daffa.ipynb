{
  "nbformat": 4,
  "nbformat_minor": 0,
  "metadata": {
    "colab": {
      "provenance": [],
      "gpuType": "T4",
      "mount_file_id": "1pJfjdNYCVa5zXmbgVFd9FGZkze3TAfw8",
      "authorship_tag": "ABX9TyPM8HZYJaCyvIrJvHdtH68N",
      "include_colab_link": true
    },
    "kernelspec": {
      "name": "python3",
      "display_name": "Python 3"
    },
    "language_info": {
      "name": "python"
    },
    "accelerator": "GPU"
  },
  "cells": [
    {
      "cell_type": "markdown",
      "metadata": {
        "id": "view-in-github",
        "colab_type": "text"
      },
      "source": [
        "<a href=\"https://colab.research.google.com/github/DaffaFathir/Machine-Learning-Task/blob/main/Tugas%2012/CNN_GoogleNet_Daffa.ipynb\" target=\"_parent\"><img src=\"https://colab.research.google.com/assets/colab-badge.svg\" alt=\"Open In Colab\"/></a>"
      ]
    },
    {
      "cell_type": "code",
      "source": [
        "# Nama    : Daffa Fathir Fajri\n",
        "# NIM     : 1103213149\n",
        "# Kelas   : TK-45-04\n",
        "# Lecture : 12\n",
        "# Model   : CNN (GoogleNet)\n",
        "# Dataset : Fashion MNIST"
      ],
      "metadata": {
        "id": "UqGV1710wivo"
      },
      "execution_count": 54,
      "outputs": []
    },
    {
      "cell_type": "markdown",
      "source": [
        "chatGPT promph : https://chatgpt.com/share/19b146d0-c916-498c-96fa-844153d4128a"
      ],
      "metadata": {
        "id": "Dn9DirRYxhoK"
      }
    },
    {
      "cell_type": "markdown",
      "source": [
        "**Pertama, kita perlu mengimpor semua pustaka yang diperlukan.**"
      ],
      "metadata": {
        "id": "QrBeY1NW1anE"
      }
    },
    {
      "cell_type": "code",
      "source": [
        "import numpy as np\n",
        "import pandas as pd\n",
        "import tensorflow as tf\n",
        "from tensorflow.keras.models import Model\n",
        "from tensorflow.keras.layers import Input, Conv2D, MaxPooling2D, Dropout, concatenate, Flatten, Dense, AveragePooling2D\n",
        "from tensorflow.keras.utils import to_categorical\n",
        "from sklearn.model_selection import train_test_split\n",
        "import matplotlib.pyplot as plt\n",
        "from google.colab import drive\n"
      ],
      "metadata": {
        "id": "gjlLxEFs0Elu"
      },
      "execution_count": 55,
      "outputs": []
    },
    {
      "cell_type": "markdown",
      "source": [
        "**Hubungkan Google Drive agar kita bisa mengakses dataset.**"
      ],
      "metadata": {
        "id": "6VS0K-X91g-I"
      }
    },
    {
      "cell_type": "code",
      "source": [
        "drive.mount('/content/drive')"
      ],
      "metadata": {
        "colab": {
          "base_uri": "https://localhost:8080/"
        },
        "id": "_QJlQexs1g-I",
        "outputId": "605f81bd-642d-44f1-9445-4207f555ed40"
      },
      "execution_count": 56,
      "outputs": [
        {
          "output_type": "stream",
          "name": "stdout",
          "text": [
            "Drive already mounted at /content/drive; to attempt to forcibly remount, call drive.mount(\"/content/drive\", force_remount=True).\n"
          ]
        }
      ]
    },
    {
      "cell_type": "markdown",
      "source": [
        "**Baca file train.csv dan test.csv dari Google Drive.**"
      ],
      "metadata": {
        "id": "N96bhSh71hs5"
      }
    },
    {
      "cell_type": "code",
      "source": [
        "# Path to your dataset files\n",
        "train_path = '/content/drive/MyDrive/Machine Learning/Fashion/fashion-mnist_train.csv'\n",
        "test_path = '/content/drive/MyDrive/Machine Learning/Fashion/fashion-mnist_test.csv'\n",
        "\n",
        "# Load datasets\n",
        "train_df = pd.read_csv(train_path)\n",
        "test_df = pd.read_csv(test_path)"
      ],
      "metadata": {
        "id": "r56IbMB81hs5"
      },
      "execution_count": 57,
      "outputs": []
    },
    {
      "cell_type": "markdown",
      "source": [
        "**Pisahkan fitur dan label, normalisasi data, dan ubah label menjadi one-hot encoding.**"
      ],
      "metadata": {
        "id": "m75vovB21h1y"
      }
    },
    {
      "cell_type": "code",
      "source": [
        "# Split features and labels\n",
        "X_train = train_df.iloc[:, 1:].values\n",
        "y_train = train_df.iloc[:, 0].values\n",
        "X_test = test_df.iloc[:, 1:].values\n",
        "y_test = test_df.iloc[:, 0].values\n",
        "\n",
        "# Normalize the data\n",
        "X_train = X_train / 255.0\n",
        "X_test = X_test / 255.0\n",
        "\n",
        "# Reshape data to match the input shape of the CNN\n",
        "X_train = X_train.reshape(-1, 28, 28, 1)\n",
        "X_test = X_test.reshape(-1, 28, 28, 1)\n",
        "\n",
        "# One-hot encode the labels\n",
        "y_train = to_categorical(y_train, 10)\n",
        "y_test = to_categorical(y_test, 10)"
      ],
      "metadata": {
        "id": "OiYN5bwJ1h1y"
      },
      "execution_count": 58,
      "outputs": []
    },
    {
      "cell_type": "markdown",
      "source": [
        "**Definisikan arsitektur model GoogleNet (Inception v1)**"
      ],
      "metadata": {
        "id": "pu7xFY_E1h7a"
      }
    },
    {
      "cell_type": "code",
      "source": [
        "def inception_module(x, filters):\n",
        "    conv1x1 = Conv2D(filters[0], (1, 1), padding='same', activation='relu')(x)\n",
        "    conv3x3 = Conv2D(filters[1], (3, 3), padding='same', activation='relu')(x)\n",
        "    conv5x5 = Conv2D(filters[2], (5, 5), padding='same', activation='relu')(x)\n",
        "    max_pool = MaxPooling2D((3, 3), strides=(1, 1), padding='same')(x)\n",
        "    max_pool_conv = Conv2D(filters[3], (1, 1), padding='same', activation='relu')(max_pool)\n",
        "    output = concatenate([conv1x1, conv3x3, conv5x5, max_pool_conv], axis=-1)\n",
        "    return output\n",
        "\n",
        "input_layer = Input(shape=(28, 28, 1))\n",
        "x = Conv2D(64, (7, 7), strides=(2, 2), padding='same', activation='relu')(input_layer)\n",
        "x = MaxPooling2D((3, 3), strides=(2, 2), padding='same')(x)\n",
        "\n",
        "x = inception_module(x, [64, 128, 32, 32])\n",
        "x = inception_module(x, [128, 192, 96, 64])\n",
        "x = MaxPooling2D((3, 3), strides=(2, 2), padding='same')(x)\n",
        "\n",
        "x = inception_module(x, [192, 208, 48, 64])\n",
        "x = inception_module(x, [160, 224, 64, 64])\n",
        "x = inception_module(x, [128, 256, 64, 64])\n",
        "x = inception_module(x, [112, 288, 64, 64])\n",
        "x = inception_module(x, [256, 320, 128, 128])\n",
        "\n",
        "# Reduce the size of the input to fit AveragePooling2D\n",
        "x = Conv2D(832, (1, 1), padding='same', activation='relu')(x)\n",
        "x = AveragePooling2D((4, 4))(x)  # Reduce pooling size to 4x4\n",
        "\n",
        "x = Flatten()(x)\n",
        "x = Dense(1024, activation='relu')(x)\n",
        "x = Dropout(0.4)(x)\n",
        "output_layer = Dense(10, activation='softmax')(x)\n",
        "\n",
        "model = Model(input_layer, output_layer)\n",
        "model.summary()"
      ],
      "metadata": {
        "colab": {
          "base_uri": "https://localhost:8080/"
        },
        "id": "1m7_OmI51h7a",
        "outputId": "0d0b87e8-6fe7-47e9-bc59-be4dec11a293"
      },
      "execution_count": 59,
      "outputs": [
        {
          "output_type": "stream",
          "name": "stdout",
          "text": [
            "Model: \"model\"\n",
            "__________________________________________________________________________________________________\n",
            " Layer (type)                Output Shape                 Param #   Connected to                  \n",
            "==================================================================================================\n",
            " input_2 (InputLayer)        [(None, 28, 28, 1)]          0         []                            \n",
            "                                                                                                  \n",
            " conv2d_74 (Conv2D)          (None, 14, 14, 64)           3200      ['input_2[0][0]']             \n",
            "                                                                                                  \n",
            " max_pooling2d_29 (MaxPooli  (None, 7, 7, 64)             0         ['conv2d_74[0][0]']           \n",
            " ng2D)                                                                                            \n",
            "                                                                                                  \n",
            " max_pooling2d_30 (MaxPooli  (None, 7, 7, 64)             0         ['max_pooling2d_29[0][0]']    \n",
            " ng2D)                                                                                            \n",
            "                                                                                                  \n",
            " conv2d_75 (Conv2D)          (None, 7, 7, 64)             4160      ['max_pooling2d_29[0][0]']    \n",
            "                                                                                                  \n",
            " conv2d_76 (Conv2D)          (None, 7, 7, 128)            73856     ['max_pooling2d_29[0][0]']    \n",
            "                                                                                                  \n",
            " conv2d_77 (Conv2D)          (None, 7, 7, 32)             51232     ['max_pooling2d_29[0][0]']    \n",
            "                                                                                                  \n",
            " conv2d_78 (Conv2D)          (None, 7, 7, 32)             2080      ['max_pooling2d_30[0][0]']    \n",
            "                                                                                                  \n",
            " concatenate_7 (Concatenate  (None, 7, 7, 256)            0         ['conv2d_75[0][0]',           \n",
            " )                                                                   'conv2d_76[0][0]',           \n",
            "                                                                     'conv2d_77[0][0]',           \n",
            "                                                                     'conv2d_78[0][0]']           \n",
            "                                                                                                  \n",
            " max_pooling2d_31 (MaxPooli  (None, 7, 7, 256)            0         ['concatenate_7[0][0]']       \n",
            " ng2D)                                                                                            \n",
            "                                                                                                  \n",
            " conv2d_79 (Conv2D)          (None, 7, 7, 128)            32896     ['concatenate_7[0][0]']       \n",
            "                                                                                                  \n",
            " conv2d_80 (Conv2D)          (None, 7, 7, 192)            442560    ['concatenate_7[0][0]']       \n",
            "                                                                                                  \n",
            " conv2d_81 (Conv2D)          (None, 7, 7, 96)             614496    ['concatenate_7[0][0]']       \n",
            "                                                                                                  \n",
            " conv2d_82 (Conv2D)          (None, 7, 7, 64)             16448     ['max_pooling2d_31[0][0]']    \n",
            "                                                                                                  \n",
            " concatenate_8 (Concatenate  (None, 7, 7, 480)            0         ['conv2d_79[0][0]',           \n",
            " )                                                                   'conv2d_80[0][0]',           \n",
            "                                                                     'conv2d_81[0][0]',           \n",
            "                                                                     'conv2d_82[0][0]']           \n",
            "                                                                                                  \n",
            " max_pooling2d_32 (MaxPooli  (None, 4, 4, 480)            0         ['concatenate_8[0][0]']       \n",
            " ng2D)                                                                                            \n",
            "                                                                                                  \n",
            " max_pooling2d_33 (MaxPooli  (None, 4, 4, 480)            0         ['max_pooling2d_32[0][0]']    \n",
            " ng2D)                                                                                            \n",
            "                                                                                                  \n",
            " conv2d_83 (Conv2D)          (None, 4, 4, 192)            92352     ['max_pooling2d_32[0][0]']    \n",
            "                                                                                                  \n",
            " conv2d_84 (Conv2D)          (None, 4, 4, 208)            898768    ['max_pooling2d_32[0][0]']    \n",
            "                                                                                                  \n",
            " conv2d_85 (Conv2D)          (None, 4, 4, 48)             576048    ['max_pooling2d_32[0][0]']    \n",
            "                                                                                                  \n",
            " conv2d_86 (Conv2D)          (None, 4, 4, 64)             30784     ['max_pooling2d_33[0][0]']    \n",
            "                                                                                                  \n",
            " concatenate_9 (Concatenate  (None, 4, 4, 512)            0         ['conv2d_83[0][0]',           \n",
            " )                                                                   'conv2d_84[0][0]',           \n",
            "                                                                     'conv2d_85[0][0]',           \n",
            "                                                                     'conv2d_86[0][0]']           \n",
            "                                                                                                  \n",
            " max_pooling2d_34 (MaxPooli  (None, 4, 4, 512)            0         ['concatenate_9[0][0]']       \n",
            " ng2D)                                                                                            \n",
            "                                                                                                  \n",
            " conv2d_87 (Conv2D)          (None, 4, 4, 160)            82080     ['concatenate_9[0][0]']       \n",
            "                                                                                                  \n",
            " conv2d_88 (Conv2D)          (None, 4, 4, 224)            1032416   ['concatenate_9[0][0]']       \n",
            "                                                                                                  \n",
            " conv2d_89 (Conv2D)          (None, 4, 4, 64)             819264    ['concatenate_9[0][0]']       \n",
            "                                                                                                  \n",
            " conv2d_90 (Conv2D)          (None, 4, 4, 64)             32832     ['max_pooling2d_34[0][0]']    \n",
            "                                                                                                  \n",
            " concatenate_10 (Concatenat  (None, 4, 4, 512)            0         ['conv2d_87[0][0]',           \n",
            " e)                                                                  'conv2d_88[0][0]',           \n",
            "                                                                     'conv2d_89[0][0]',           \n",
            "                                                                     'conv2d_90[0][0]']           \n",
            "                                                                                                  \n",
            " max_pooling2d_35 (MaxPooli  (None, 4, 4, 512)            0         ['concatenate_10[0][0]']      \n",
            " ng2D)                                                                                            \n",
            "                                                                                                  \n",
            " conv2d_91 (Conv2D)          (None, 4, 4, 128)            65664     ['concatenate_10[0][0]']      \n",
            "                                                                                                  \n",
            " conv2d_92 (Conv2D)          (None, 4, 4, 256)            1179904   ['concatenate_10[0][0]']      \n",
            "                                                                                                  \n",
            " conv2d_93 (Conv2D)          (None, 4, 4, 64)             819264    ['concatenate_10[0][0]']      \n",
            "                                                                                                  \n",
            " conv2d_94 (Conv2D)          (None, 4, 4, 64)             32832     ['max_pooling2d_35[0][0]']    \n",
            "                                                                                                  \n",
            " concatenate_11 (Concatenat  (None, 4, 4, 512)            0         ['conv2d_91[0][0]',           \n",
            " e)                                                                  'conv2d_92[0][0]',           \n",
            "                                                                     'conv2d_93[0][0]',           \n",
            "                                                                     'conv2d_94[0][0]']           \n",
            "                                                                                                  \n",
            " max_pooling2d_36 (MaxPooli  (None, 4, 4, 512)            0         ['concatenate_11[0][0]']      \n",
            " ng2D)                                                                                            \n",
            "                                                                                                  \n",
            " conv2d_95 (Conv2D)          (None, 4, 4, 112)            57456     ['concatenate_11[0][0]']      \n",
            "                                                                                                  \n",
            " conv2d_96 (Conv2D)          (None, 4, 4, 288)            1327392   ['concatenate_11[0][0]']      \n",
            "                                                                                                  \n",
            " conv2d_97 (Conv2D)          (None, 4, 4, 64)             819264    ['concatenate_11[0][0]']      \n",
            "                                                                                                  \n",
            " conv2d_98 (Conv2D)          (None, 4, 4, 64)             32832     ['max_pooling2d_36[0][0]']    \n",
            "                                                                                                  \n",
            " concatenate_12 (Concatenat  (None, 4, 4, 528)            0         ['conv2d_95[0][0]',           \n",
            " e)                                                                  'conv2d_96[0][0]',           \n",
            "                                                                     'conv2d_97[0][0]',           \n",
            "                                                                     'conv2d_98[0][0]']           \n",
            "                                                                                                  \n",
            " max_pooling2d_37 (MaxPooli  (None, 4, 4, 528)            0         ['concatenate_12[0][0]']      \n",
            " ng2D)                                                                                            \n",
            "                                                                                                  \n",
            " conv2d_99 (Conv2D)          (None, 4, 4, 256)            135424    ['concatenate_12[0][0]']      \n",
            "                                                                                                  \n",
            " conv2d_100 (Conv2D)         (None, 4, 4, 320)            1520960   ['concatenate_12[0][0]']      \n",
            "                                                                                                  \n",
            " conv2d_101 (Conv2D)         (None, 4, 4, 128)            1689728   ['concatenate_12[0][0]']      \n",
            "                                                                                                  \n",
            " conv2d_102 (Conv2D)         (None, 4, 4, 128)            67712     ['max_pooling2d_37[0][0]']    \n",
            "                                                                                                  \n",
            " concatenate_13 (Concatenat  (None, 4, 4, 832)            0         ['conv2d_99[0][0]',           \n",
            " e)                                                                  'conv2d_100[0][0]',          \n",
            "                                                                     'conv2d_101[0][0]',          \n",
            "                                                                     'conv2d_102[0][0]']          \n",
            "                                                                                                  \n",
            " conv2d_103 (Conv2D)         (None, 4, 4, 832)            693056    ['concatenate_13[0][0]']      \n",
            "                                                                                                  \n",
            " average_pooling2d_1 (Avera  (None, 1, 1, 832)            0         ['conv2d_103[0][0]']          \n",
            " gePooling2D)                                                                                     \n",
            "                                                                                                  \n",
            " flatten_4 (Flatten)         (None, 832)                  0         ['average_pooling2d_1[0][0]'] \n",
            "                                                                                                  \n",
            " dense_13 (Dense)            (None, 1024)                 852992    ['flatten_4[0][0]']           \n",
            "                                                                                                  \n",
            " dropout_12 (Dropout)        (None, 1024)                 0         ['dense_13[0][0]']            \n",
            "                                                                                                  \n",
            " dense_14 (Dense)            (None, 10)                   10250     ['dropout_12[0][0]']          \n",
            "                                                                                                  \n",
            "==================================================================================================\n",
            "Total params: 14110202 (53.83 MB)\n",
            "Trainable params: 14110202 (53.83 MB)\n",
            "Non-trainable params: 0 (0.00 Byte)\n",
            "__________________________________________________________________________________________________\n"
          ]
        }
      ]
    },
    {
      "cell_type": "markdown",
      "source": [
        "**Mengatur parameter untuk training.**"
      ],
      "metadata": {
        "id": "npRopS8F1iEB"
      }
    },
    {
      "cell_type": "code",
      "source": [
        "model.compile(optimizer='adam', loss='categorical_crossentropy', metrics=['accuracy'])"
      ],
      "metadata": {
        "id": "3DgT_giR1iEB"
      },
      "execution_count": 60,
      "outputs": []
    },
    {
      "cell_type": "markdown",
      "source": [
        "**Melatih model dengan data yang sudah disiapkan.**"
      ],
      "metadata": {
        "id": "M17OWf7Z1kU_"
      }
    },
    {
      "cell_type": "code",
      "source": [
        "history = model.fit(X_train, y_train, epochs=20, batch_size=64, validation_split=0.2)"
      ],
      "metadata": {
        "colab": {
          "base_uri": "https://localhost:8080/"
        },
        "id": "4orRgIo21kVA",
        "outputId": "d334bdc9-7a87-491e-e7b0-d250a4706150"
      },
      "execution_count": 61,
      "outputs": [
        {
          "output_type": "stream",
          "name": "stdout",
          "text": [
            "Epoch 1/20\n",
            "750/750 [==============================] - 51s 47ms/step - loss: 0.9660 - accuracy: 0.6043 - val_loss: 0.5343 - val_accuracy: 0.7979\n",
            "Epoch 2/20\n",
            "750/750 [==============================] - 32s 43ms/step - loss: 0.4379 - accuracy: 0.8410 - val_loss: 0.3795 - val_accuracy: 0.8652\n",
            "Epoch 3/20\n",
            "750/750 [==============================] - 32s 42ms/step - loss: 0.3497 - accuracy: 0.8754 - val_loss: 0.3670 - val_accuracy: 0.8652\n",
            "Epoch 4/20\n",
            "750/750 [==============================] - 32s 42ms/step - loss: 0.3106 - accuracy: 0.8901 - val_loss: 0.3146 - val_accuracy: 0.8928\n",
            "Epoch 5/20\n",
            "750/750 [==============================] - 32s 42ms/step - loss: 0.2882 - accuracy: 0.8980 - val_loss: 0.3060 - val_accuracy: 0.8912\n",
            "Epoch 6/20\n",
            "750/750 [==============================] - 32s 43ms/step - loss: 0.2628 - accuracy: 0.9045 - val_loss: 0.2761 - val_accuracy: 0.9043\n",
            "Epoch 7/20\n",
            "750/750 [==============================] - 32s 42ms/step - loss: 0.2510 - accuracy: 0.9101 - val_loss: 0.2804 - val_accuracy: 0.9030\n",
            "Epoch 8/20\n",
            "750/750 [==============================] - 32s 43ms/step - loss: 0.2307 - accuracy: 0.9169 - val_loss: 0.2665 - val_accuracy: 0.9057\n",
            "Epoch 9/20\n",
            "750/750 [==============================] - 32s 42ms/step - loss: 0.2035 - accuracy: 0.9256 - val_loss: 0.3088 - val_accuracy: 0.9058\n",
            "Epoch 10/20\n",
            "750/750 [==============================] - 32s 43ms/step - loss: 0.2060 - accuracy: 0.9260 - val_loss: 0.2702 - val_accuracy: 0.9087\n",
            "Epoch 11/20\n",
            "750/750 [==============================] - 32s 42ms/step - loss: 0.1856 - accuracy: 0.9327 - val_loss: 0.2787 - val_accuracy: 0.9066\n",
            "Epoch 12/20\n",
            "750/750 [==============================] - 32s 43ms/step - loss: 0.1736 - accuracy: 0.9367 - val_loss: 0.3102 - val_accuracy: 0.9027\n",
            "Epoch 13/20\n",
            "750/750 [==============================] - 32s 43ms/step - loss: 0.1716 - accuracy: 0.9386 - val_loss: 0.2786 - val_accuracy: 0.9124\n",
            "Epoch 14/20\n",
            "750/750 [==============================] - 32s 42ms/step - loss: 0.1856 - accuracy: 0.9346 - val_loss: 0.2851 - val_accuracy: 0.9091\n",
            "Epoch 15/20\n",
            "750/750 [==============================] - 32s 43ms/step - loss: 0.1574 - accuracy: 0.9438 - val_loss: 0.2913 - val_accuracy: 0.9152\n",
            "Epoch 16/20\n",
            "750/750 [==============================] - 32s 43ms/step - loss: 0.1374 - accuracy: 0.9499 - val_loss: 0.3168 - val_accuracy: 0.9010\n",
            "Epoch 17/20\n",
            "750/750 [==============================] - 32s 43ms/step - loss: 0.1355 - accuracy: 0.9517 - val_loss: 0.2909 - val_accuracy: 0.9137\n",
            "Epoch 18/20\n",
            "750/750 [==============================] - 32s 42ms/step - loss: 0.1252 - accuracy: 0.9552 - val_loss: 0.3418 - val_accuracy: 0.9064\n",
            "Epoch 19/20\n",
            "750/750 [==============================] - 32s 43ms/step - loss: 0.1163 - accuracy: 0.9588 - val_loss: 0.3242 - val_accuracy: 0.9093\n",
            "Epoch 20/20\n",
            "750/750 [==============================] - 32s 43ms/step - loss: 0.1067 - accuracy: 0.9608 - val_loss: 0.3706 - val_accuracy: 0.9119\n"
          ]
        }
      ]
    },
    {
      "cell_type": "markdown",
      "source": [
        "**Mengevaluasi model dengan data uji.**"
      ],
      "metadata": {
        "id": "zcTxAx1_1kcH"
      }
    },
    {
      "cell_type": "code",
      "source": [
        "test_loss, test_accuracy = model.evaluate(X_test, y_test)\n",
        "print(f'Test Loss: {test_loss}')\n",
        "print(f'Test Accuracy: {test_accuracy}')\n"
      ],
      "metadata": {
        "colab": {
          "base_uri": "https://localhost:8080/"
        },
        "id": "uw0ZRmsD1kcI",
        "outputId": "76eb28cb-f1f0-4395-d7c1-4cf00a414fa7"
      },
      "execution_count": 62,
      "outputs": [
        {
          "output_type": "stream",
          "name": "stdout",
          "text": [
            "313/313 [==============================] - 5s 14ms/step - loss: 0.3631 - accuracy: 0.9193\n",
            "Test Loss: 0.36310797929763794\n",
            "Test Accuracy: 0.9193000197410583\n"
          ]
        }
      ]
    },
    {
      "cell_type": "markdown",
      "source": [
        "**Visualisasi kinerja model selama training.**"
      ],
      "metadata": {
        "id": "FkKXoFHA1kgA"
      }
    },
    {
      "cell_type": "code",
      "source": [
        "# Plot training & validation accuracy values\n",
        "plt.plot(history.history['accuracy'])\n",
        "plt.plot(history.history['val_accuracy'])\n",
        "plt.title('Model accuracy')\n",
        "plt.xlabel('Epoch')\n",
        "plt.ylabel('Accuracy')\n",
        "plt.legend(['Train', 'Validation'], loc='upper left')\n",
        "plt.show()\n",
        "\n",
        "# Plot training & validation loss values\n",
        "plt.plot(history.history['loss'])\n",
        "plt.plot(history.history['val_loss'])\n",
        "plt.title('Model loss')\n",
        "plt.xlabel('Epoch')\n",
        "plt.ylabel('Loss')\n",
        "plt.legend(['Train', 'Validation'], loc='upper left')\n",
        "plt.show()\n"
      ],
      "metadata": {
        "colab": {
          "base_uri": "https://localhost:8080/",
          "height": 927
        },
        "id": "WT1N3LI31kgA",
        "outputId": "84a11a3a-9396-416e-c3ae-3c518858d39e"
      },
      "execution_count": 63,
      "outputs": [
        {
          "output_type": "display_data",
          "data": {
            "text/plain": [
              "<Figure size 640x480 with 1 Axes>"
            ],
            "image/png": "[encoded data removed]"
          },
          "metadata": {}
        },
        {
          "output_type": "display_data",
          "data": {
            "text/plain": [
              "<Figure size 640x480 with 1 Axes>"
            ],
            "image/png": "[encoded data removed]"
          },
          "metadata": {}
        }
      ]
    }
  ]
}