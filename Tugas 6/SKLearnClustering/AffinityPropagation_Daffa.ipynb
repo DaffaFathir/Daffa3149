{
  "nbformat": 4,
  "nbformat_minor": 0,
  "metadata": {
    "colab": {
      "provenance": [],
      "mount_file_id": "1TdqEFjqbp_qyOWNafR1zc8c2xiFBh3lY",
      "authorship_tag": "ABX9TyOjvhJhD9SSgbpSlNzIU8rI",
      "include_colab_link": true
    },
    "kernelspec": {
      "name": "python3",
      "display_name": "Python 3"
    },
    "language_info": {
      "name": "python"
    }
  },
  "cells": [
    {
      "cell_type": "markdown",
      "metadata": {
        "id": "view-in-github",
        "colab_type": "text"
      },
      "source": [
        "<a href=\"https://colab.research.google.com/github/DaffaFathir/Machine-Learning-Task/blob/main/Tugas%206/SKLearnClustering/AffinityPropagation_Daffa.ipynb\" target=\"_parent\"><img src=\"https://colab.research.google.com/assets/colab-badge.svg\" alt=\"Open In Colab\"/></a>"
      ]
    },
    {
      "cell_type": "code",
      "execution_count": null,
      "metadata": {
        "id": "11bW-vQrsqxU"
      },
      "outputs": [],
      "source": [
        "# Nama    : Daffa Fathir Fajri\n",
        "# NIM     : 1103213149\n",
        "# Kelas   : TK-45-04\n",
        "# Lecture : 6\n",
        "# Model   : K-Means Clustering\n",
        "# Dataset : Mall_Customers.CSV"
      ]
    },
    {
      "cell_type": "code",
      "source": [
        "import numpy as np\n",
        "\n",
        "from sklearn import metrics\n",
        "from sklearn.cluster import AffinityPropagation\n",
        "from sklearn.datasets import make_blobs\n",
        "\n",
        "\n",
        "centers = [[1, 1], [-1, -1], [1, -1]]\n",
        "X, labels_true = make_blobs(\n",
        "    n_samples=300, centers=centers, cluster_std=0.5, random_state=0\n",
        ")\n",
        "\n",
        "\n",
        "\n",
        "af = AffinityPropagation(preference=-50, random_state=0).fit(X)\n",
        "cluster_centers_indices = af.cluster_centers_indices_\n",
        "labels = af.labels_\n",
        "\n",
        "n_clusters_ = len(cluster_centers_indices)\n",
        "\n",
        "print(\"Estimated number of clusters: %d\" % n_clusters_)\n",
        "print(\"Homogeneity: %0.3f\" % metrics.homogeneity_score(labels_true, labels))\n",
        "print(\"Completeness: %0.3f\" % metrics.completeness_score(labels_true, labels))\n",
        "print(\"V-measure: %0.3f\" % metrics.v_measure_score(labels_true, labels))\n",
        "print(\"Adjusted Rand Index: %0.3f\" % metrics.adjusted_rand_score(labels_true, labels))\n",
        "print(\n",
        "    \"Adjusted Mutual Information: %0.3f\"\n",
        "    % metrics.adjusted_mutual_info_score(labels_true, labels)\n",
        ")\n",
        "print(\n",
        "    \"Silhouette Coefficient: %0.3f\"\n",
        "    % metrics.silhouette_score(X, labels, metric=\"sqeuclidean\")\n",
        ")\n"
      ],
      "metadata": {
        "colab": {
          "base_uri": "https://localhost:8080/"
        },
        "id": "n4BXIdUm2ipa",
        "outputId": "37658424-5b34-406b-f166-83c3405e5374"
      },
      "execution_count": 3,
      "outputs": [
        {
          "output_type": "stream",
          "name": "stdout",
          "text": [
            "Estimated number of clusters: 3\n",
            "Homogeneity: 0.872\n",
            "Completeness: 0.872\n",
            "V-measure: 0.872\n",
            "Adjusted Rand Index: 0.912\n",
            "Adjusted Mutual Information: 0.871\n",
            "Silhouette Coefficient: 0.753\n"
          ]
        }
      ]
    }
  ]
}