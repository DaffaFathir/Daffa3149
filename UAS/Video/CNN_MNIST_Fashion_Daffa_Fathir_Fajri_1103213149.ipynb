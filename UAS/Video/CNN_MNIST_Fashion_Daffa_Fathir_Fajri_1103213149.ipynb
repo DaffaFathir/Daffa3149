{
  "nbformat": 4,
  "nbformat_minor": 0,
  "metadata": {
    "colab": {
      "provenance": [],
      "authorship_tag": "ABX9TyO8bjmHT9As7BzMJ3T3mckz",
      "include_colab_link": true
    },
    "kernelspec": {
      "name": "python3",
      "display_name": "Python 3"
    },
    "language_info": {
      "name": "python"
    }
  },
  "cells": [
    {
      "cell_type": "markdown",
      "metadata": {
        "id": "view-in-github",
        "colab_type": "text"
      },
      "source": [
        "<a href=\"https://colab.research.google.com/github/DaffaFathir/Machine-Learning-Task/blob/main/UAS/Video/CNN_MNIST_Fashion_Daffa_Fathir_Fajri_1103213149.ipynb\" target=\"_parent\"><img src=\"https://colab.research.google.com/assets/colab-badge.svg\" alt=\"Open In Colab\"/></a>"
      ]
    },
    {
      "cell_type": "markdown",
      "source": [
        "Link Dokumentasi (**GDrive**)  :  https://drive.google.com/drive/folders/1OacDuwr9yaBKIYt6Q6zp8zYp9rxc97Sz?usp=drive_link"
      ],
      "metadata": {
        "id": "RqvZYty_0f6e"
      }
    }
  ]
}