{
  "nbformat": 4,
  "nbformat_minor": 0,
  "metadata": {
    "colab": {
      "provenance": [],
      "mount_file_id": "1jkmxIwoH49ScwSHzn6gs92gFzEJEt-XK",
      "authorship_tag": "ABX9TyOErhDXHpCib+w8tb1BRA99",
      "include_colab_link": true
    },
    "kernelspec": {
      "name": "python3",
      "display_name": "Python 3"
    },
    "language_info": {
      "name": "python"
    }
  },
  "cells": [
    {
      "cell_type": "markdown",
      "metadata": {
        "id": "view-in-github",
        "colab_type": "text"
      },
      "source": [
        "<a href=\"https://colab.research.google.com/github/DaffaFathir/Machine-Learning-Task/blob/main/Tugas%2011/LeNet_Daffa%20Fathir%20Fajri.ipynb\" target=\"_parent\"><img src=\"https://colab.research.google.com/assets/colab-badge.svg\" alt=\"Open In Colab\"/></a>"
      ]
    },
    {
      "cell_type": "code",
      "source": [
        "# Nama    : Daffa Fathir Fajri\n",
        "# NIM     : 1103213149\n",
        "# Kelas   : TK-45-04\n",
        "# Lecture : 10\n",
        "# Model   : CNN\n",
        "# Dataset : CIFAR10"
      ],
      "metadata": {
        "id": "QO9wUkoRDi1y"
      },
      "execution_count": 29,
      "outputs": []
    },
    {
      "cell_type": "markdown",
      "source": [
        "chatGPT :"
      ],
      "metadata": {
        "id": "earDhSTMMwo0"
      }
    },
    {
      "cell_type": "markdown",
      "source": [
        "1. Import Libraries"
      ],
      "metadata": {
        "id": "sjF6KKP-AX2y"
      }
    },
    {
      "cell_type": "code",
      "source": [
        "import tensorflow as tf\n",
        "from tensorflow.keras import datasets, layers, models\n",
        "import matplotlib.pyplot as plt"
      ],
      "metadata": {
        "id": "B9CYaOQzArY_"
      },
      "execution_count": 30,
      "outputs": []
    },
    {
      "cell_type": "markdown",
      "source": [
        "2. Load and Preprocess Data\n",
        "Kami akan menggunakan dataset MNIST untuk demonstrasi, yang terdiri dari gambar tulisan tangan digit."
      ],
      "metadata": {
        "id": "ccywJyhZA3zT"
      }
    },
    {
      "cell_type": "code",
      "source": [
        "# Load dataset\n",
        "(train_images, train_labels), (test_images, test_labels) = datasets.mnist.load_data()\n",
        "\n",
        "# Preprocess data\n",
        "train_images = train_images.reshape((60000, 28, 28, 1))\n",
        "test_images = test_images.reshape((10000, 28, 28, 1))\n",
        "\n",
        "# Normalize pixel values to be between 0 and 1\n",
        "train_images, test_images = train_images / 255.0, test_images / 255.0\n"
      ],
      "metadata": {
        "colab": {
          "base_uri": "https://localhost:8080/"
        },
        "id": "MpHrMpAqTRej",
        "outputId": "993003e7-1711-453a-9da2-df6e6f12d55d"
      },
      "execution_count": 31,
      "outputs": [
        {
          "output_type": "stream",
          "name": "stdout",
          "text": [
            "Downloading data from https://storage.googleapis.com/tensorflow/tf-keras-datasets/mnist.npz\n",
            "11490434/11490434 [==============================] - 0s 0us/step\n"
          ]
        }
      ]
    },
    {
      "cell_type": "markdown",
      "source": [
        "3. Define the LeNet Model\n",
        "Berikut adalah arsitektur model LeNet:"
      ],
      "metadata": {
        "id": "FsqRHbIMA6Cc"
      }
    },
    {
      "cell_type": "code",
      "source": [
        "def create_lenet():\n",
        "    model = models.Sequential()\n",
        "\n",
        "    # Layer 1: Convolutional Layer + Activation + Pooling\n",
        "    model.add(layers.Conv2D(6, kernel_size=(5, 5), activation='tanh', input_shape=(28, 28, 1)))\n",
        "    model.add(layers.AveragePooling2D())\n",
        "\n",
        "    # Layer 2: Convolutional Layer + Activation + Pooling\n",
        "    model.add(layers.Conv2D(16, kernel_size=(5, 5), activation='tanh'))\n",
        "    model.add(layers.AveragePooling2D())\n",
        "\n",
        "    # Flatten the feature maps\n",
        "    model.add(layers.Flatten())\n",
        "\n",
        "    # Layer 3: Fully Connected Layer + Activation\n",
        "    model.add(layers.Dense(120, activation='tanh'))\n",
        "\n",
        "    # Layer 4: Fully Connected Layer + Activation\n",
        "    model.add(layers.Dense(84, activation='tanh'))\n",
        "\n",
        "    # Output Layer: Fully Connected Layer with Softmax Activation\n",
        "    model.add(layers.Dense(10, activation='softmax'))\n",
        "\n",
        "    return model\n",
        "\n",
        "lenet = create_lenet()\n",
        "lenet.summary()\n"
      ],
      "metadata": {
        "id": "VATs1iV9A8eU",
        "colab": {
          "base_uri": "https://localhost:8080/"
        },
        "outputId": "6dc7e68b-5360-42a6-b745-4a9b9fb594b9"
      },
      "execution_count": 32,
      "outputs": [
        {
          "output_type": "stream",
          "name": "stdout",
          "text": [
            "Model: \"sequential_1\"\n",
            "_________________________________________________________________\n",
            " Layer (type)                Output Shape              Param #   \n",
            "=================================================================\n",
            " conv2d_3 (Conv2D)           (None, 24, 24, 6)         156       \n",
            "                                                                 \n",
            " average_pooling2d (Average  (None, 12, 12, 6)         0         \n",
            " Pooling2D)                                                      \n",
            "                                                                 \n",
            " conv2d_4 (Conv2D)           (None, 8, 8, 16)          2416      \n",
            "                                                                 \n",
            " average_pooling2d_1 (Avera  (None, 4, 4, 16)          0         \n",
            " gePooling2D)                                                    \n",
            "                                                                 \n",
            " flatten_1 (Flatten)         (None, 256)               0         \n",
            "                                                                 \n",
            " dense_2 (Dense)             (None, 120)               30840     \n",
            "                                                                 \n",
            " dense_3 (Dense)             (None, 84)                10164     \n",
            "                                                                 \n",
            " dense_4 (Dense)             (None, 10)                850       \n",
            "                                                                 \n",
            "=================================================================\n",
            "Total params: 44426 (173.54 KB)\n",
            "Trainable params: 44426 (173.54 KB)\n",
            "Non-trainable params: 0 (0.00 Byte)\n",
            "_________________________________________________________________\n"
          ]
        }
      ]
    },
    {
      "cell_type": "markdown",
      "source": [
        "4. Compile the Model"
      ],
      "metadata": {
        "id": "gpMiLOhBA9is"
      }
    },
    {
      "cell_type": "code",
      "source": [
        "lenet.compile(optimizer='adam',\n",
        "              loss='sparse_categorical_crossentropy',\n",
        "              metrics=['accuracy'])\n"
      ],
      "metadata": {
        "id": "PuAw2uslA--M"
      },
      "execution_count": 33,
      "outputs": []
    },
    {
      "cell_type": "markdown",
      "source": [
        "5. Train the Model"
      ],
      "metadata": {
        "id": "96TlPFVhA_64"
      }
    },
    {
      "cell_type": "code",
      "source": [
        "history = lenet.fit(train_images, train_labels, epochs=10,\n",
        "                    validation_data=(test_images, test_labels))\n"
      ],
      "metadata": {
        "id": "Auy0JyHDBBba",
        "colab": {
          "base_uri": "https://localhost:8080/"
        },
        "outputId": "77e437c8-b95c-4cea-c903-d173a87419ae"
      },
      "execution_count": 34,
      "outputs": [
        {
          "output_type": "stream",
          "name": "stdout",
          "text": [
            "Epoch 1/10\n",
            "1875/1875 [==============================] - 39s 19ms/step - loss: 0.2510 - accuracy: 0.9249 - val_loss: 0.1129 - val_accuracy: 0.9663\n",
            "Epoch 2/10\n",
            "1875/1875 [==============================] - 28s 15ms/step - loss: 0.0961 - accuracy: 0.9707 - val_loss: 0.0710 - val_accuracy: 0.9772\n",
            "Epoch 3/10\n",
            "1875/1875 [==============================] - 28s 15ms/step - loss: 0.0647 - accuracy: 0.9802 - val_loss: 0.0570 - val_accuracy: 0.9824\n",
            "Epoch 4/10\n",
            "1875/1875 [==============================] - 27s 14ms/step - loss: 0.0496 - accuracy: 0.9844 - val_loss: 0.0532 - val_accuracy: 0.9823\n",
            "Epoch 5/10\n",
            "1875/1875 [==============================] - 28s 15ms/step - loss: 0.0404 - accuracy: 0.9869 - val_loss: 0.0533 - val_accuracy: 0.9842\n",
            "Epoch 6/10\n",
            "1875/1875 [==============================] - 27s 15ms/step - loss: 0.0323 - accuracy: 0.9897 - val_loss: 0.0506 - val_accuracy: 0.9847\n",
            "Epoch 7/10\n",
            "1875/1875 [==============================] - 28s 15ms/step - loss: 0.0262 - accuracy: 0.9913 - val_loss: 0.0480 - val_accuracy: 0.9848\n",
            "Epoch 8/10\n",
            "1875/1875 [==============================] - 29s 15ms/step - loss: 0.0235 - accuracy: 0.9925 - val_loss: 0.0473 - val_accuracy: 0.9863\n",
            "Epoch 9/10\n",
            "1875/1875 [==============================] - 29s 15ms/step - loss: 0.0185 - accuracy: 0.9942 - val_loss: 0.0486 - val_accuracy: 0.9856\n",
            "Epoch 10/10\n",
            "1875/1875 [==============================] - 29s 15ms/step - loss: 0.0184 - accuracy: 0.9940 - val_loss: 0.0477 - val_accuracy: 0.9849\n"
          ]
        }
      ]
    },
    {
      "cell_type": "markdown",
      "source": [
        "6. Evaluate the Model"
      ],
      "metadata": {
        "id": "lHC3KYlgBCi4"
      }
    },
    {
      "cell_type": "code",
      "source": [
        "test_loss, test_acc = lenet.evaluate(test_images, test_labels, verbose=2)\n",
        "print(f'\\nTest accuracy: {test_acc}')\n"
      ],
      "metadata": {
        "id": "2yJjH2jXBD4V",
        "colab": {
          "base_uri": "https://localhost:8080/"
        },
        "outputId": "bb3d8f1b-a24b-4811-c494-35ec00da8b2b"
      },
      "execution_count": 35,
      "outputs": [
        {
          "output_type": "stream",
          "name": "stdout",
          "text": [
            "313/313 - 2s - loss: 0.0477 - accuracy: 0.9849 - 2s/epoch - 6ms/step\n",
            "\n",
            "Test accuracy: 0.9848999977111816\n"
          ]
        }
      ]
    },
    {
      "cell_type": "markdown",
      "source": [
        "7. Plot Training History\n",
        "Untuk visualisasi proses pelatihan:"
      ],
      "metadata": {
        "id": "ebqNqCVlTdCV"
      }
    },
    {
      "cell_type": "code",
      "source": [
        "plt.plot(history.history['accuracy'], label='accuracy')\n",
        "plt.plot(history.history['val_accuracy'], label = 'val_accuracy')\n",
        "plt.xlabel('Epoch')\n",
        "plt.ylabel('Accuracy')\n",
        "plt.ylim([0, 1])\n",
        "plt.legend(loc='lower right')\n",
        "plt.show()\n"
      ],
      "metadata": {
        "colab": {
          "base_uri": "https://localhost:8080/",
          "height": 455
        },
        "id": "B5Feti3cTeV6",
        "outputId": "007df855-8471-4259-fa87-cfea8020cc0b"
      },
      "execution_count": 36,
      "outputs": [
        {
          "output_type": "display_data",
          "data": {
            "text/plain": [
              "<Figure size 640x480 with 1 Axes>"
            ],
            "image/png": "[encoded data removed]"
          },
          "metadata": {}
        }
      ]
    }
  ]
}