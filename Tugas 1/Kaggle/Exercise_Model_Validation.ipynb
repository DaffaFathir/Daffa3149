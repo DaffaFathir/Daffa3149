{
  "metadata": {
    "kernelspec": {
      "display_name": "Python 3",
      "language": "python",
      "name": "python3"
    },
    "language_info": {
      "name": "python",
      "version": "3.10.13",
      "mimetype": "text/x-python",
      "codemirror_mode": {
        "name": "ipython",
        "version": 3
      },
      "pygments_lexer": "ipython3",
      "nbconvert_exporter": "python",
      "file_extension": ".py"
    },
    "kaggle": {
      "accelerator": "none",
      "dataSources": [
        {
          "sourceId": 10211,
          "databundleVersionId": 111096,
          "sourceType": "competition"
        },
        {
          "sourceId": 15520,
          "sourceType": "datasetVersion",
          "datasetId": 11167
        },
        {
          "sourceId": 38454,
          "sourceType": "datasetVersion",
          "datasetId": 2709
        }
      ],
      "isInternetEnabled": false,
      "language": "python",
      "sourceType": "notebook",
      "isGpuEnabled": false
    },
    "colab": {
      "name": "Exercise: Model Validation",
      "provenance": [],
      "include_colab_link": true
    }
  },
  "nbformat_minor": 0,
  "nbformat": 4,
  "cells": [
    {
      "cell_type": "markdown",
      "metadata": {
        "id": "view-in-github",
        "colab_type": "text"
      },
      "source": [
        "<a href=\"https://colab.research.google.com/github/DaffaFathir/Daffa3149/blob/main/Tugas%201/Kaggle/Exercise_Model_Validation.ipynb\" target=\"_parent\"><img src=\"https://colab.research.google.com/assets/colab-badge.svg\" alt=\"Open In Colab\"/></a>"
      ]
    },
    {
      "source": [
        "\n",
        "# IMPORTANT: RUN THIS CELL IN ORDER TO IMPORT YOUR KAGGLE DATA SOURCES\n",
        "# TO THE CORRECT LOCATION (/kaggle/input) IN YOUR NOTEBOOK,\n",
        "# THEN FEEL FREE TO DELETE THIS CELL.\n",
        "# NOTE: THIS NOTEBOOK ENVIRONMENT DIFFERS FROM KAGGLE'S PYTHON\n",
        "# ENVIRONMENT SO THERE MAY BE MISSING LIBRARIES USED BY YOUR\n",
        "# NOTEBOOK.\n",
        "\n",
        "import os\n",
        "import sys\n",
        "from tempfile import NamedTemporaryFile\n",
        "from urllib.request import urlopen\n",
        "from urllib.parse import unquote, urlparse\n",
        "from urllib.error import HTTPError\n",
        "from zipfile import ZipFile\n",
        "import tarfile\n",
        "import shutil\n",
        "\n",
        "CHUNK_SIZE = 40960\n",
        "DATA_SOURCE_MAPPING = 'home-data-for-ml-course:https%3A%2F%2Fstorage.googleapis.com%2Fkaggle-competitions-data%2Fkaggle-v2%2F10211%2F111096%2Fbundle%2Farchive.zip%3FX-Goog-Algorithm%3DGOOG4-RSA-SHA256%26X-Goog-Credential%3Dgcp-kaggle-com%2540kaggle-161607.iam.gserviceaccount.com%252F20240306%252Fauto%252Fstorage%252Fgoog4_request%26X-Goog-Date%3D20240306T141916Z%26X-Goog-Expires%3D259200%26X-Goog-SignedHeaders%3Dhost%26X-Goog-Signature%3D72de9f23f46b5e1402ef45351ddc3c51ce20f47cefd288ffec7f4856d1f997874b9a3944768247d0a6cdf3567b91e8522582c7441432c0683b10f6edeb2282265d1ff3540349644e7114cb45317bc60ae01c606aed96a0b13978644a5802f583a14e100b91ca75be7b97087b46e1c66174dafab13e0f59698e37947a08389593baeee7e137d521de92373bf737e25a33dd8a23ed2c9b9ea3ee6957f64939bffd34c92e4247e2e9c4c25393024e88108b8f6c63c195ee44e283024cf19b9348fa3d629eb222ebe06afeb6a1617a0999785f74e8fe7ffd8d1376249bb87405849f720caa4afaf553e2cb2c242070ed8d97596f829862d90d6ebd5133efdeff0911,mobile-price-classification:https%3A%2F%2Fstorage.googleapis.com%2Fkaggle-data-sets%2F11167%2F15520%2Fbundle%2Farchive.zip%3FX-Goog-Algorithm%3DGOOG4-RSA-SHA256%26X-Goog-Credential%3Dgcp-kaggle-com%2540kaggle-161607.iam.gserviceaccount.com%252F20240306%252Fauto%252Fstorage%252Fgoog4_request%26X-Goog-Date%3D20240306T141916Z%26X-Goog-Expires%3D259200%26X-Goog-SignedHeaders%3Dhost%26X-Goog-Signature%3D35fdc2fabac4da3d67cbacd901aeef2cc82cc41a886eba58bf9d64d0160bd25d8bbe64e75ea367ca82a5fcf0ec1cd07567f650d6f766198ee3567e19bcadcf347f896b65bb32f0da5a2ad20157c08a8b8da505cdff224cc1d6148649b315402e13b6578d00235b7a9c1380e418fde9e82a1eb234f8bc10508af1c4a5da55331ed7ddf0dea3a125f30304d76c1950b178256ff7095b19503acb3625519cc365443f526e1fc5ac24457576363aaa28a5a58a49b3b176afa9aa65cab38fac310c9c857037f31e732c409d10485414834ef3a16a16510b4a025fcb245711d8f9ccee644090611af2b5a9e1babaae85cd7cde850deda3ddba45d8b20bb57c8be75cfd,melbourne-housing-snapshot:https%3A%2F%2Fstorage.googleapis.com%2Fkaggle-data-sets%2F2709%2F38454%2Fbundle%2Farchive.zip%3FX-Goog-Algorithm%3DGOOG4-RSA-SHA256%26X-Goog-Credential%3Dgcp-kaggle-com%2540kaggle-161607.iam.gserviceaccount.com%252F20240306%252Fauto%252Fstorage%252Fgoog4_request%26X-Goog-Date%3D20240306T141916Z%26X-Goog-Expires%3D259200%26X-Goog-SignedHeaders%3Dhost%26X-Goog-Signature%3D1e09d2682b01218d48ca4b4c7fed9c7b0e727fd8a817dca6b52f9ff9f87a39d75228c21cc1c5f0aea149984a829f82f969e5d323108360c80aa05031b5742bca5604848956e3e374b6284d5aa241cc535c782b726d1bf475d46c96e91f50996e52b07238b0cb77966ad49ea8b76351ab44817f8433ab8d0aac38d212f4cc5ef70dddb16d850597d3e82bf6fc0fca3b4fa53dd224793194259603895d77f7dc066a4b5ad53613df45476768c56fcec2e0ceb397f3e4e6f2e72bdefb55984d2f560ca74b7ac2e5a9c95df2028e8c5116b98814f5fe950682fe99f604766025f2fbc25135c54f7b653c65b10c626ed3675c070d4350d4c1456a326d6503fe97eac6'\n",
        "\n",
        "KAGGLE_INPUT_PATH='/kaggle/input'\n",
        "KAGGLE_WORKING_PATH='/kaggle/working'\n",
        "KAGGLE_SYMLINK='kaggle'\n",
        "\n",
        "!umount /kaggle/input/ 2> /dev/null\n",
        "shutil.rmtree('/kaggle/input', ignore_errors=True)\n",
        "os.makedirs(KAGGLE_INPUT_PATH, 0o777, exist_ok=True)\n",
        "os.makedirs(KAGGLE_WORKING_PATH, 0o777, exist_ok=True)\n",
        "\n",
        "try:\n",
        "  os.symlink(KAGGLE_INPUT_PATH, os.path.join(\"..\", 'input'), target_is_directory=True)\n",
        "except FileExistsError:\n",
        "  pass\n",
        "try:\n",
        "  os.symlink(KAGGLE_WORKING_PATH, os.path.join(\"..\", 'working'), target_is_directory=True)\n",
        "except FileExistsError:\n",
        "  pass\n",
        "\n",
        "for data_source_mapping in DATA_SOURCE_MAPPING.split(','):\n",
        "    directory, download_url_encoded = data_source_mapping.split(':')\n",
        "    download_url = unquote(download_url_encoded)\n",
        "    filename = urlparse(download_url).path\n",
        "    destination_path = os.path.join(KAGGLE_INPUT_PATH, directory)\n",
        "    try:\n",
        "        with urlopen(download_url) as fileres, NamedTemporaryFile() as tfile:\n",
        "            total_length = fileres.headers['content-length']\n",
        "            print(f'Downloading {directory}, {total_length} bytes compressed')\n",
        "            dl = 0\n",
        "            data = fileres.read(CHUNK_SIZE)\n",
        "            while len(data) > 0:\n",
        "                dl += len(data)\n",
        "                tfile.write(data)\n",
        "                done = int(50 * dl / int(total_length))\n",
        "                sys.stdout.write(f\"\\r[{'=' * done}{' ' * (50-done)}] {dl} bytes downloaded\")\n",
        "                sys.stdout.flush()\n",
        "                data = fileres.read(CHUNK_SIZE)\n",
        "            if filename.endswith('.zip'):\n",
        "              with ZipFile(tfile) as zfile:\n",
        "                zfile.extractall(destination_path)\n",
        "            else:\n",
        "              with tarfile.open(tfile.name) as tarfile:\n",
        "                tarfile.extractall(destination_path)\n",
        "            print(f'\\nDownloaded and uncompressed: {directory}')\n",
        "    except HTTPError as e:\n",
        "        print(f'Failed to load (likely expired) {download_url} to path {destination_path}')\n",
        "        continue\n",
        "    except OSError as e:\n",
        "        print(f'Failed to load {download_url} to path {destination_path}')\n",
        "        continue\n",
        "\n",
        "print('Data source import complete.')\n"
      ],
      "metadata": {
        "id": "2vkHSOMkIg5y"
      },
      "cell_type": "code",
      "outputs": [],
      "execution_count": null
    },
    {
      "cell_type": "markdown",
      "source": [
        "**This notebook is an exercise in the [Introduction to Machine Learning](https://www.kaggle.com/learn/intro-to-machine-learning) course.  You can reference the tutorial at [this link](https://www.kaggle.com/dansbecker/model-validation).**\n",
        "\n",
        "---\n"
      ],
      "metadata": {
        "id": "J8MGrt65Ig50"
      }
    },
    {
      "cell_type": "markdown",
      "source": [
        "## Recap\n",
        "You've built a model. In this exercise you will test how good your model is.\n",
        "\n",
        "Run the cell below to set up your coding environment where the previous exercise left off."
      ],
      "metadata": {
        "id": "dzJG0axsIg50"
      }
    },
    {
      "cell_type": "code",
      "source": [
        "# Code you have previously used to load data\n",
        "import pandas as pd\n",
        "from sklearn.tree import DecisionTreeRegressor\n",
        "\n",
        "# Path of the file to read\n",
        "iowa_file_path = '../input/home-data-for-ml-course/train.csv'\n",
        "\n",
        "home_data = pd.read_csv(iowa_file_path)\n",
        "y = home_data.SalePrice\n",
        "feature_columns = ['LotArea', 'YearBuilt', '1stFlrSF', '2ndFlrSF', 'FullBath', 'BedroomAbvGr', 'TotRmsAbvGrd']\n",
        "X = home_data[feature_columns]\n",
        "\n",
        "# Specify Model\n",
        "iowa_model = DecisionTreeRegressor()\n",
        "# Fit Model\n",
        "iowa_model.fit(X, y)\n",
        "\n",
        "print(\"First in-sample predictions:\", iowa_model.predict(X.head()))\n",
        "print(\"Actual target values for those homes:\", y.head().tolist())\n",
        "\n",
        "# Set up code checking\n",
        "from learntools.core import binder\n",
        "binder.bind(globals())\n",
        "from learntools.machine_learning.ex4 import *\n",
        "print(\"Setup Complete\")"
      ],
      "metadata": {
        "execution": {
          "iopub.status.busy": "2024-03-06T14:18:32.668389Z",
          "iopub.execute_input": "2024-03-06T14:18:32.668783Z",
          "iopub.status.idle": "2024-03-06T14:18:32.707878Z",
          "shell.execute_reply.started": "2024-03-06T14:18:32.668745Z",
          "shell.execute_reply": "2024-03-06T14:18:32.706907Z"
        },
        "trusted": true,
        "id": "29bziL2UIg51",
        "outputId": "9256e095-04ca-45c5-9fce-ea322ff66e02"
      },
      "execution_count": null,
      "outputs": [
        {
          "name": "stdout",
          "text": "First in-sample predictions: [208500. 181500. 223500. 140000. 250000.]\nActual target values for those homes: [208500, 181500, 223500, 140000, 250000]\nSetup Complete\n",
          "output_type": "stream"
        }
      ]
    },
    {
      "cell_type": "markdown",
      "source": [
        "# Exercises\n",
        "\n",
        "## Step 1: Split Your Data\n",
        "Use the `train_test_split` function to split up your data.\n",
        "\n",
        "Give it the argument `random_state=1` so the `check` functions know what to expect when verifying your code.\n",
        "\n",
        "Recall, your features are loaded in the DataFrame **X** and your target is loaded in **y**.\n"
      ],
      "metadata": {
        "id": "XYR2L8OPIg51"
      }
    },
    {
      "cell_type": "code",
      "source": [
        "# Import the train_test_split function and uncomment\n",
        "from sklearn.model_selection import train_test_split\n",
        "\n",
        "# fill in and uncomment\n",
        "train_X, val_X, train_y, val_y = train_test_split(X,y, random_state = 1)\n",
        "\n",
        "# Check your answer\n",
        "step_1.check()"
      ],
      "metadata": {
        "execution": {
          "iopub.status.busy": "2024-03-06T14:18:32.709576Z",
          "iopub.execute_input": "2024-03-06T14:18:32.70987Z",
          "iopub.status.idle": "2024-03-06T14:18:32.721483Z",
          "shell.execute_reply.started": "2024-03-06T14:18:32.709845Z",
          "shell.execute_reply": "2024-03-06T14:18:32.720712Z"
        },
        "trusted": true,
        "id": "V3SkWLveIg51",
        "outputId": "7ab4d147-2686-4b01-e4f7-33715def5212"
      },
      "execution_count": null,
      "outputs": [
        {
          "output_type": "display_data",
          "data": {
            "text/plain": "<IPython.core.display.Javascript object>",
            "application/javascript": "parent.postMessage({\"jupyterEvent\": \"custom.exercise_interaction\", \"data\": {\"outcomeType\": 1, \"valueTowardsCompletion\": 0.25, \"interactionType\": 1, \"questionType\": 2, \"questionId\": \"1_SplitData\", \"learnToolsVersion\": \"0.3.4\", \"failureMessage\": \"\", \"exceptionClass\": \"\", \"trace\": \"\"}}, \"*\")"
          },
          "metadata": {}
        },
        {
          "output_type": "display_data",
          "data": {
            "text/plain": "Correct",
            "text/markdown": "<span style=\"color:#33cc33\">Correct</span>"
          },
          "metadata": {}
        }
      ]
    },
    {
      "cell_type": "code",
      "source": [
        "# The lines below will show you a hint or the solution.\n",
        "# step_1.hint()\n",
        "# step_1.solution()\n"
      ],
      "metadata": {
        "execution": {
          "iopub.status.busy": "2024-03-06T14:18:32.72259Z",
          "iopub.execute_input": "2024-03-06T14:18:32.723028Z",
          "iopub.status.idle": "2024-03-06T14:18:32.726773Z",
          "shell.execute_reply.started": "2024-03-06T14:18:32.723Z",
          "shell.execute_reply": "2024-03-06T14:18:32.725895Z"
        },
        "trusted": true,
        "id": "yRL6aTrlIg51"
      },
      "execution_count": null,
      "outputs": []
    },
    {
      "cell_type": "markdown",
      "source": [
        "## Step 2: Specify and Fit the Model\n",
        "\n",
        "Create a `DecisionTreeRegressor` model and fit it to the relevant data.\n",
        "Set `random_state` to 1 again when creating the model."
      ],
      "metadata": {
        "id": "2OVGdiYpIg52"
      }
    },
    {
      "cell_type": "code",
      "source": [
        "# You imported DecisionTreeRegressor in your last exercise\n",
        "# and that code has been copied to the setup code above. So, no need to\n",
        "# import it again\n",
        "\n",
        "# Specify the model\n",
        "iowa_model = DecisionTreeRegressor(random_state = 1)\n",
        "\n",
        "# Fit iowa_model with the training data.\n",
        "iowa_model.fit(train_X, train_y)\n",
        "\n",
        "# Check your answer\n",
        "step_2.check()"
      ],
      "metadata": {
        "execution": {
          "iopub.status.busy": "2024-03-06T14:18:32.728151Z",
          "iopub.execute_input": "2024-03-06T14:18:32.728446Z",
          "iopub.status.idle": "2024-03-06T14:18:32.758588Z",
          "shell.execute_reply.started": "2024-03-06T14:18:32.728422Z",
          "shell.execute_reply": "2024-03-06T14:18:32.75758Z"
        },
        "trusted": true,
        "id": "1yoOtz9dIg52",
        "outputId": "c81b77c5-53ab-4e54-e609-f65e75fe2fb6"
      },
      "execution_count": null,
      "outputs": [
        {
          "name": "stdout",
          "text": "[186500. 184000. 130000.  92000. 164500. 220000. 335000. 144152. 215000.\n 262000.]\n[186500. 184000. 130000.  92000. 164500. 220000. 335000. 144152. 215000.\n 262000.]\n",
          "output_type": "stream"
        },
        {
          "output_type": "display_data",
          "data": {
            "text/plain": "<IPython.core.display.Javascript object>",
            "application/javascript": "parent.postMessage({\"jupyterEvent\": \"custom.exercise_interaction\", \"data\": {\"outcomeType\": 1, \"valueTowardsCompletion\": 0.25, \"interactionType\": 1, \"questionType\": 2, \"questionId\": \"2_FitModelWithTrain\", \"learnToolsVersion\": \"0.3.4\", \"failureMessage\": \"\", \"exceptionClass\": \"\", \"trace\": \"\"}}, \"*\")"
          },
          "metadata": {}
        },
        {
          "output_type": "display_data",
          "data": {
            "text/plain": "Correct",
            "text/markdown": "<span style=\"color:#33cc33\">Correct</span>"
          },
          "metadata": {}
        }
      ]
    },
    {
      "cell_type": "code",
      "source": [
        "# step_2.hint()\n",
        "# step_2.solution()"
      ],
      "metadata": {
        "execution": {
          "iopub.status.busy": "2024-03-06T14:18:32.76127Z",
          "iopub.execute_input": "2024-03-06T14:18:32.76213Z",
          "iopub.status.idle": "2024-03-06T14:18:32.765821Z",
          "shell.execute_reply.started": "2024-03-06T14:18:32.762072Z",
          "shell.execute_reply": "2024-03-06T14:18:32.765125Z"
        },
        "trusted": true,
        "id": "iQXjJ8-7Ig52"
      },
      "execution_count": null,
      "outputs": []
    },
    {
      "cell_type": "markdown",
      "source": [
        "## Step 3: Make Predictions with Validation data\n"
      ],
      "metadata": {
        "id": "hXkZAPa8Ig52"
      }
    },
    {
      "cell_type": "code",
      "source": [
        "# Predict with all validation observations\n",
        "val_predictions = val_predictions = iowa_model.predict(val_X)\n",
        "\n",
        "# Check your answer\n",
        "step_3.check()"
      ],
      "metadata": {
        "execution": {
          "iopub.status.busy": "2024-03-06T14:18:32.766732Z",
          "iopub.execute_input": "2024-03-06T14:18:32.767616Z",
          "iopub.status.idle": "2024-03-06T14:18:32.782046Z",
          "shell.execute_reply.started": "2024-03-06T14:18:32.767591Z",
          "shell.execute_reply": "2024-03-06T14:18:32.781204Z"
        },
        "trusted": true,
        "id": "SAGiwg0dIg52",
        "outputId": "eb945b34-ec94-4aba-eb95-111c3dcd6247"
      },
      "execution_count": null,
      "outputs": [
        {
          "output_type": "display_data",
          "data": {
            "text/plain": "<IPython.core.display.Javascript object>",
            "application/javascript": "parent.postMessage({\"jupyterEvent\": \"custom.exercise_interaction\", \"data\": {\"outcomeType\": 1, \"valueTowardsCompletion\": 0.25, \"interactionType\": 1, \"questionType\": 2, \"questionId\": \"3_ValPreds\", \"learnToolsVersion\": \"0.3.4\", \"failureMessage\": \"\", \"exceptionClass\": \"\", \"trace\": \"\"}}, \"*\")"
          },
          "metadata": {}
        },
        {
          "output_type": "display_data",
          "data": {
            "text/plain": "Correct",
            "text/markdown": "<span style=\"color:#33cc33\">Correct</span>"
          },
          "metadata": {}
        }
      ]
    },
    {
      "cell_type": "code",
      "source": [
        "# step_3.hint()\n",
        "# step_3.solution()"
      ],
      "metadata": {
        "execution": {
          "iopub.status.busy": "2024-03-06T14:18:32.782885Z",
          "iopub.execute_input": "2024-03-06T14:18:32.78314Z",
          "iopub.status.idle": "2024-03-06T14:18:32.788518Z",
          "shell.execute_reply.started": "2024-03-06T14:18:32.783118Z",
          "shell.execute_reply": "2024-03-06T14:18:32.787658Z"
        },
        "trusted": true,
        "id": "42qk81CkIg52"
      },
      "execution_count": null,
      "outputs": []
    },
    {
      "cell_type": "markdown",
      "source": [
        "Inspect your predictions and actual values from validation data."
      ],
      "metadata": {
        "id": "kZtjAtq8Ig52"
      }
    },
    {
      "cell_type": "code",
      "source": [
        "# print the top few validation predictions\n",
        "print(val_predictions)\n",
        "# print the top few actual prices from validation data\n",
        "print(val_predictions.)"
      ],
      "metadata": {
        "execution": {
          "iopub.status.busy": "2024-03-06T14:18:32.789344Z",
          "iopub.execute_input": "2024-03-06T14:18:32.79002Z",
          "iopub.status.idle": "2024-03-06T14:18:32.801494Z",
          "shell.execute_reply.started": "2024-03-06T14:18:32.789996Z",
          "shell.execute_reply": "2024-03-06T14:18:32.800297Z"
        },
        "trusted": true,
        "id": "fsQXpkvPIg52",
        "outputId": "052086ec-11c4-4bc6-bbbe-8a0c8b690012"
      },
      "execution_count": null,
      "outputs": [
        {
          "traceback": [
            "\u001b[0;36m  Cell \u001b[0;32mIn[16], line 4\u001b[0;36m\u001b[0m\n\u001b[0;31m    print(val_predictions.)\u001b[0m\n\u001b[0m                          ^\u001b[0m\n\u001b[0;31mSyntaxError\u001b[0m\u001b[0;31m:\u001b[0m invalid syntax\n"
          ],
          "ename": "SyntaxError",
          "evalue": "invalid syntax (2058792594.py, line 4)",
          "output_type": "error"
        }
      ]
    },
    {
      "cell_type": "markdown",
      "source": [
        "What do you notice that is different from what you saw with in-sample predictions (which are printed after the top code cell in this page).\n",
        "\n",
        "Do you remember why validation predictions differ from in-sample (or training) predictions? This is an important idea from the last lesson.\n",
        "\n",
        "## Step 4: Calculate the Mean Absolute Error in Validation Data\n"
      ],
      "metadata": {
        "id": "8wvjhbGhIg53"
      }
    },
    {
      "cell_type": "code",
      "source": [
        "from sklearn.metrics import mean_absolute_error\n",
        "val_mae = val_mae = mean_absolute_error(val_y, val_predictions)\n",
        "\n",
        "# uncomment following line to see the validation_mae\n",
        "#print(val_mae)\n",
        "\n",
        "# Check your answer\n",
        "step_4.check()"
      ],
      "metadata": {
        "execution": {
          "iopub.status.busy": "2024-03-06T14:18:53.700021Z",
          "iopub.execute_input": "2024-03-06T14:18:53.70039Z",
          "iopub.status.idle": "2024-03-06T14:18:53.709718Z",
          "shell.execute_reply.started": "2024-03-06T14:18:53.700363Z",
          "shell.execute_reply": "2024-03-06T14:18:53.708753Z"
        },
        "trusted": true,
        "id": "dT6wKDGrIg53",
        "outputId": "9841a7b9-08bb-43b6-ffa1-7c61cc421003"
      },
      "execution_count": null,
      "outputs": [
        {
          "output_type": "display_data",
          "data": {
            "text/plain": "<IPython.core.display.Javascript object>",
            "application/javascript": "parent.postMessage({\"jupyterEvent\": \"custom.exercise_interaction\", \"data\": {\"outcomeType\": 1, \"valueTowardsCompletion\": 0.25, \"interactionType\": 1, \"questionType\": 1, \"questionId\": \"4_MAE\", \"learnToolsVersion\": \"0.3.4\", \"failureMessage\": \"\", \"exceptionClass\": \"\", \"trace\": \"\"}}, \"*\")"
          },
          "metadata": {}
        },
        {
          "output_type": "display_data",
          "data": {
            "text/plain": "Correct",
            "text/markdown": "<span style=\"color:#33cc33\">Correct</span>"
          },
          "metadata": {}
        }
      ]
    },
    {
      "cell_type": "code",
      "source": [
        "# step_4.hint()\n",
        "# step_4.solution()"
      ],
      "metadata": {
        "execution": {
          "iopub.status.busy": "2024-03-06T14:18:32.852009Z",
          "iopub.execute_input": "2024-03-06T14:18:32.852391Z",
          "iopub.status.idle": "2024-03-06T14:18:32.857462Z",
          "shell.execute_reply.started": "2024-03-06T14:18:32.85236Z",
          "shell.execute_reply": "2024-03-06T14:18:32.855328Z"
        },
        "trusted": true,
        "id": "08JO22b1Ig53"
      },
      "execution_count": null,
      "outputs": []
    },
    {
      "cell_type": "markdown",
      "source": [
        "Is that MAE good?  There isn't a general rule for what values are good that applies across applications. But you'll see how to use (and improve) this number in the next step.\n",
        "\n",
        "# Keep Going\n",
        "\n",
        "You are ready for **[Underfitting and Overfitting](https://www.kaggle.com/dansbecker/underfitting-and-overfitting).**\n"
      ],
      "metadata": {
        "id": "rmF-gGkfIg53"
      }
    },
    {
      "cell_type": "markdown",
      "source": [
        "---\n",
        "\n",
        "\n",
        "\n",
        "\n",
        "*Have questions or comments? Visit the [course discussion forum](https://www.kaggle.com/learn/intro-to-machine-learning/discussion) to chat with other learners.*"
      ],
      "metadata": {
        "id": "v4DDl_jZIg53"
      }
    }
  ]
}